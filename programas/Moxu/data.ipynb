{
  "nbformat": 4,
  "nbformat_minor": 0,
  "metadata": {
    "colab": {
      "name": "data.ipynb",
      "provenance": [],
      "authorship_tag": "ABX9TyNO1xqu9m3ozk8r1/SuwDG0",
      "include_colab_link": true
    },
    "kernelspec": {
      "name": "python3",
      "display_name": "Python 3"
    },
    "language_info": {
      "name": "python"
    }
  },
  "cells": [
    {
      "cell_type": "markdown",
      "metadata": {
        "id": "view-in-github",
        "colab_type": "text"
      },
      "source": [
        "<a href=\"https://colab.research.google.com/github/m-oxu/ciencia_de_dados/blob/main/programas/Moxu/data.ipynb\" target=\"_parent\"><img src=\"https://colab.research.google.com/assets/colab-badge.svg\" alt=\"Open In Colab\"/></a>"
      ]
    },
    {
      "cell_type": "code",
      "metadata": {
        "id": "2koT1gu5aCDW"
      },
      "source": [
        "import pandas as pd"
      ],
      "execution_count": 2,
      "outputs": []
    },
    {
      "cell_type": "code",
      "metadata": {
        "id": "w95MARdjdIzK"
      },
      "source": [
        "data = pd.read_csv('/content/falas_bolsonaro.csv')"
      ],
      "execution_count": null,
      "outputs": []
    },
    {
      "cell_type": "code",
      "metadata": {
        "colab": {
          "base_uri": "https://localhost:8080/",
          "height": 424
        },
        "id": "o2YNkiI4DomL",
        "outputId": "a9c18584-eac5-46bd-e730-4af04e084a83"
      },
      "source": [
        "data.drop(columns=['web-scraper-order', 'web-scraper-start-url', 'repetido', 'origem_da_fala'], axis=1)"
      ],
      "execution_count": null,
      "outputs": [
        {
          "output_type": "execute_result",
          "data": {
            "text/html": [
              "<div>\n",
              "<style scoped>\n",
              "    .dataframe tbody tr th:only-of-type {\n",
              "        vertical-align: middle;\n",
              "    }\n",
              "\n",
              "    .dataframe tbody tr th {\n",
              "        vertical-align: top;\n",
              "    }\n",
              "\n",
              "    .dataframe thead th {\n",
              "        text-align: right;\n",
              "    }\n",
              "</style>\n",
              "<table border=\"1\" class=\"dataframe\">\n",
              "  <thead>\n",
              "    <tr style=\"text-align: right;\">\n",
              "      <th></th>\n",
              "      <th>data</th>\n",
              "      <th>afirmacao</th>\n",
              "      <th>origem_da_fala-href</th>\n",
              "    </tr>\n",
              "  </thead>\n",
              "  <tbody>\n",
              "    <tr>\n",
              "      <th>0</th>\n",
              "      <td>NaN</td>\n",
              "      <td>“Auxílio-emergencial (detalhes com o President...</td>\n",
              "      <td>NaN</td>\n",
              "    </tr>\n",
              "    <tr>\n",
              "      <th>1</th>\n",
              "      <td>NaN</td>\n",
              "      <td>“Zombaram de mim, chamaram de capitão hidroxic...</td>\n",
              "      <td>NaN</td>\n",
              "    </tr>\n",
              "    <tr>\n",
              "      <th>2</th>\n",
              "      <td>NaN</td>\n",
              "      <td>“Isso que foi usado por um chefe da equipe méd...</td>\n",
              "      <td>NaN</td>\n",
              "    </tr>\n",
              "    <tr>\n",
              "      <th>3</th>\n",
              "      <td>NaN</td>\n",
              "      <td>NaN</td>\n",
              "      <td>NaN</td>\n",
              "    </tr>\n",
              "    <tr>\n",
              "      <th>4</th>\n",
              "      <td>04.fev.2021#</td>\n",
              "      <td>NaN</td>\n",
              "      <td>NaN</td>\n",
              "    </tr>\n",
              "    <tr>\n",
              "      <th>...</th>\n",
              "      <td>...</td>\n",
              "      <td>...</td>\n",
              "      <td>...</td>\n",
              "    </tr>\n",
              "    <tr>\n",
              "      <th>10484</th>\n",
              "      <td>NaN</td>\n",
              "      <td>NaN</td>\n",
              "      <td>https://www.youtube.com/watch?v=j9K6SBPRodQ</td>\n",
              "    </tr>\n",
              "    <tr>\n",
              "      <th>10485</th>\n",
              "      <td>31.dez.2020#</td>\n",
              "      <td>NaN</td>\n",
              "      <td>NaN</td>\n",
              "    </tr>\n",
              "    <tr>\n",
              "      <th>10486</th>\n",
              "      <td>NaN</td>\n",
              "      <td>“Nós queremos que não mais 70% dessa garotada ...</td>\n",
              "      <td>NaN</td>\n",
              "    </tr>\n",
              "    <tr>\n",
              "      <th>10487</th>\n",
              "      <td>NaN</td>\n",
              "      <td>“Nós em Brasília aqui, pela maneira de indicar...</td>\n",
              "      <td>NaN</td>\n",
              "    </tr>\n",
              "    <tr>\n",
              "      <th>10488</th>\n",
              "      <td>01.jan.2019#</td>\n",
              "      <td>NaN</td>\n",
              "      <td>NaN</td>\n",
              "    </tr>\n",
              "  </tbody>\n",
              "</table>\n",
              "<p>10489 rows × 3 columns</p>\n",
              "</div>"
            ],
            "text/plain": [
              "               data  ...                          origem_da_fala-href\n",
              "0               NaN  ...                                          NaN\n",
              "1               NaN  ...                                          NaN\n",
              "2               NaN  ...                                          NaN\n",
              "3               NaN  ...                                          NaN\n",
              "4      04.fev.2021#  ...                                          NaN\n",
              "...             ...  ...                                          ...\n",
              "10484           NaN  ...  https://www.youtube.com/watch?v=j9K6SBPRodQ\n",
              "10485  31.dez.2020#  ...                                          NaN\n",
              "10486           NaN  ...                                          NaN\n",
              "10487           NaN  ...                                          NaN\n",
              "10488  01.jan.2019#  ...                                          NaN\n",
              "\n",
              "[10489 rows x 3 columns]"
            ]
          },
          "metadata": {
            "tags": []
          },
          "execution_count": 7
        }
      ]
    },
    {
      "cell_type": "code",
      "metadata": {
        "colab": {
          "base_uri": "https://localhost:8080/"
        },
        "id": "xd64WCk5EJHN",
        "outputId": "23eb2a72-52cd-484f-b775-79dd18cc3792"
      },
      "source": [
        "data_df = data.data\n",
        "afirmacao_df = data.afirmacao\n",
        "origem = data['origem_da_fala-href']\n",
        "\n",
        "print(data_df.notnull().sum())\n",
        "print(afirmacao_df.notnull().sum())\n",
        "print(origem.notnull().sum())\n",
        "\n",
        "data_df.dropna(axis=0, inplace=True)\n",
        "afirmacao_df.dropna(axis=0, inplace=True)\n",
        "origem.dropna(axis=0, inplace=True)"
      ],
      "execution_count": null,
      "outputs": [
        {
          "output_type": "stream",
          "text": [
            "2849\n",
            "2848\n",
            "2820\n"
          ],
          "name": "stdout"
        }
      ]
    },
    {
      "cell_type": "code",
      "metadata": {
        "id": "kjVq6AP_H8zw"
      },
      "source": [
        "afirmacao_s = afirmacao_df.to_csv('/content/falas.csv', index=False)\n",
        "origem_s = origem.to_csv('/content/origem.csv', index=False)\n",
        "data_s = data_df.to_csv('/content/data.csv', index=False)"
      ],
      "execution_count": null,
      "outputs": []
    },
    {
      "cell_type": "code",
      "metadata": {
        "colab": {
          "base_uri": "https://localhost:8080/",
          "height": 424
        },
        "id": "ZlSAbynOINgL",
        "outputId": "6dfbfddc-8895-4fc9-97f4-f39a3ceb2e12"
      },
      "source": [
        "afirmacao = pd.read_csv('/content/falas.csv')\n",
        "data = pd.read_csv('/content/data.csv')\n",
        "origem = pd.read_csv('/content/origem.csv')\n",
        "\n",
        "origem.rename(columns={'origem_da_fala-href':'origem_da_fala'})"
      ],
      "execution_count": null,
      "outputs": [
        {
          "output_type": "execute_result",
          "data": {
            "text/html": [
              "<div>\n",
              "<style scoped>\n",
              "    .dataframe tbody tr th:only-of-type {\n",
              "        vertical-align: middle;\n",
              "    }\n",
              "\n",
              "    .dataframe tbody tr th {\n",
              "        vertical-align: top;\n",
              "    }\n",
              "\n",
              "    .dataframe thead th {\n",
              "        text-align: right;\n",
              "    }\n",
              "</style>\n",
              "<table border=\"1\" class=\"dataframe\">\n",
              "  <thead>\n",
              "    <tr style=\"text-align: right;\">\n",
              "      <th></th>\n",
              "      <th>origem_da_fala</th>\n",
              "    </tr>\n",
              "  </thead>\n",
              "  <tbody>\n",
              "    <tr>\n",
              "      <th>0</th>\n",
              "      <td>https://www.youtube.com/watch?v=K3_yDX__O4s&amp;fe...</td>\n",
              "    </tr>\n",
              "    <tr>\n",
              "      <th>1</th>\n",
              "      <td>https://www.gov.br/planalto/pt-br/acompanhe-o-...</td>\n",
              "    </tr>\n",
              "    <tr>\n",
              "      <th>2</th>\n",
              "      <td>https://www1.folha.uol.com.br/poder/2019/02/mi...</td>\n",
              "    </tr>\n",
              "    <tr>\n",
              "      <th>3</th>\n",
              "      <td>https://www.youtube.com/watch?v=FSOAahACt_Y</td>\n",
              "    </tr>\n",
              "    <tr>\n",
              "      <th>4</th>\n",
              "      <td>https://www.youtube.com/watch?v=aVoUcX4wLwU&amp;ab...</td>\n",
              "    </tr>\n",
              "    <tr>\n",
              "      <th>...</th>\n",
              "      <td>...</td>\n",
              "    </tr>\n",
              "    <tr>\n",
              "      <th>2815</th>\n",
              "      <td>https://www.youtube.com/watch?v=UqEQfL6il8M</td>\n",
              "    </tr>\n",
              "    <tr>\n",
              "      <th>2816</th>\n",
              "      <td>https://www.youtube.com/watch?v=8oPisf3kbGI&amp;ab...</td>\n",
              "    </tr>\n",
              "    <tr>\n",
              "      <th>2817</th>\n",
              "      <td>http://www2.planalto.gov.br/acompanhe-o-planal...</td>\n",
              "    </tr>\n",
              "    <tr>\n",
              "      <th>2818</th>\n",
              "      <td>https://twitter.com/i/broadcasts/1djGXQXOyWkJZ</td>\n",
              "    </tr>\n",
              "    <tr>\n",
              "      <th>2819</th>\n",
              "      <td>https://www.youtube.com/watch?v=j9K6SBPRodQ</td>\n",
              "    </tr>\n",
              "  </tbody>\n",
              "</table>\n",
              "<p>2820 rows × 1 columns</p>\n",
              "</div>"
            ],
            "text/plain": [
              "                                         origem_da_fala\n",
              "0     https://www.youtube.com/watch?v=K3_yDX__O4s&fe...\n",
              "1     https://www.gov.br/planalto/pt-br/acompanhe-o-...\n",
              "2     https://www1.folha.uol.com.br/poder/2019/02/mi...\n",
              "3           https://www.youtube.com/watch?v=FSOAahACt_Y\n",
              "4     https://www.youtube.com/watch?v=aVoUcX4wLwU&ab...\n",
              "...                                                 ...\n",
              "2815        https://www.youtube.com/watch?v=UqEQfL6il8M\n",
              "2816  https://www.youtube.com/watch?v=8oPisf3kbGI&ab...\n",
              "2817  http://www2.planalto.gov.br/acompanhe-o-planal...\n",
              "2818     https://twitter.com/i/broadcasts/1djGXQXOyWkJZ\n",
              "2819        https://www.youtube.com/watch?v=j9K6SBPRodQ\n",
              "\n",
              "[2820 rows x 1 columns]"
            ]
          },
          "metadata": {
            "tags": []
          },
          "execution_count": 34
        }
      ]
    },
    {
      "cell_type": "code",
      "metadata": {
        "colab": {
          "base_uri": "https://localhost:8080/",
          "height": 206
        },
        "id": "tUcPvY9dKN_V",
        "outputId": "edfae653-6d86-442b-a408-5292b2eb7bc9"
      },
      "source": [
        "data.head()"
      ],
      "execution_count": null,
      "outputs": [
        {
          "output_type": "execute_result",
          "data": {
            "text/html": [
              "<div>\n",
              "<style scoped>\n",
              "    .dataframe tbody tr th:only-of-type {\n",
              "        vertical-align: middle;\n",
              "    }\n",
              "\n",
              "    .dataframe tbody tr th {\n",
              "        vertical-align: top;\n",
              "    }\n",
              "\n",
              "    .dataframe thead th {\n",
              "        text-align: right;\n",
              "    }\n",
              "</style>\n",
              "<table border=\"1\" class=\"dataframe\">\n",
              "  <thead>\n",
              "    <tr style=\"text-align: right;\">\n",
              "      <th></th>\n",
              "      <th>data</th>\n",
              "    </tr>\n",
              "  </thead>\n",
              "  <tbody>\n",
              "    <tr>\n",
              "      <th>0</th>\n",
              "      <td>04.fev.2021#</td>\n",
              "    </tr>\n",
              "    <tr>\n",
              "      <th>1</th>\n",
              "      <td>09.nov.2020#</td>\n",
              "    </tr>\n",
              "    <tr>\n",
              "      <th>2</th>\n",
              "      <td>18.jun.2020#</td>\n",
              "    </tr>\n",
              "    <tr>\n",
              "      <th>3</th>\n",
              "      <td>12.jan.2021#</td>\n",
              "    </tr>\n",
              "    <tr>\n",
              "      <th>4</th>\n",
              "      <td>02.mar.2021#</td>\n",
              "    </tr>\n",
              "  </tbody>\n",
              "</table>\n",
              "</div>"
            ],
            "text/plain": [
              "           data\n",
              "0  04.fev.2021#\n",
              "1  09.nov.2020#\n",
              "2  18.jun.2020#\n",
              "3  12.jan.2021#\n",
              "4  02.mar.2021#"
            ]
          },
          "metadata": {
            "tags": []
          },
          "execution_count": 21
        }
      ]
    },
    {
      "cell_type": "code",
      "metadata": {
        "id": "JNmwkhWZE6NG"
      },
      "source": [
        "df = pd.concat([data, origem, afirmacao], axis=1)"
      ],
      "execution_count": null,
      "outputs": []
    },
    {
      "cell_type": "code",
      "metadata": {
        "id": "BcM8Bvc1J4kO"
      },
      "source": [
        "df = df.to_csv('/content/falas_bolsonaro.csv', index=False)"
      ],
      "execution_count": null,
      "outputs": []
    },
    {
      "cell_type": "code",
      "metadata": {
        "id": "gGx0LFm2K6ZF"
      },
      "source": [
        "falas = pd.read_csv('/content/falas_bolsonaro.csv')"
      ],
      "execution_count": null,
      "outputs": []
    },
    {
      "cell_type": "code",
      "metadata": {
        "colab": {
          "base_uri": "https://localhost:8080/",
          "height": 206
        },
        "id": "mg8u8BIVK92z",
        "outputId": "4f21bac7-a6f1-4e66-cc67-61b1b014e079"
      },
      "source": [
        "falas.head()"
      ],
      "execution_count": null,
      "outputs": [
        {
          "output_type": "execute_result",
          "data": {
            "text/html": [
              "<div>\n",
              "<style scoped>\n",
              "    .dataframe tbody tr th:only-of-type {\n",
              "        vertical-align: middle;\n",
              "    }\n",
              "\n",
              "    .dataframe tbody tr th {\n",
              "        vertical-align: top;\n",
              "    }\n",
              "\n",
              "    .dataframe thead th {\n",
              "        text-align: right;\n",
              "    }\n",
              "</style>\n",
              "<table border=\"1\" class=\"dataframe\">\n",
              "  <thead>\n",
              "    <tr style=\"text-align: right;\">\n",
              "      <th></th>\n",
              "      <th>data</th>\n",
              "      <th>origem_da_fala-href</th>\n",
              "      <th>afirmacao</th>\n",
              "    </tr>\n",
              "  </thead>\n",
              "  <tbody>\n",
              "    <tr>\n",
              "      <th>0</th>\n",
              "      <td>04.fev.2021#</td>\n",
              "      <td>https://www.youtube.com/watch?v=K3_yDX__O4s&amp;fe...</td>\n",
              "      <td>“Auxílio-emergencial (detalhes com o President...</td>\n",
              "    </tr>\n",
              "    <tr>\n",
              "      <th>1</th>\n",
              "      <td>09.nov.2020#</td>\n",
              "      <td>https://www.gov.br/planalto/pt-br/acompanhe-o-...</td>\n",
              "      <td>“Zombaram de mim, chamaram de capitão hidroxic...</td>\n",
              "    </tr>\n",
              "    <tr>\n",
              "      <th>2</th>\n",
              "      <td>18.jun.2020#</td>\n",
              "      <td>https://www1.folha.uol.com.br/poder/2019/02/mi...</td>\n",
              "      <td>“Isso que foi usado por um chefe da equipe méd...</td>\n",
              "    </tr>\n",
              "    <tr>\n",
              "      <th>3</th>\n",
              "      <td>12.jan.2021#</td>\n",
              "      <td>https://www.youtube.com/watch?v=FSOAahACt_Y</td>\n",
              "      <td>“Aquele dinheiro que  vinha da Noruega, da Ale...</td>\n",
              "    </tr>\n",
              "    <tr>\n",
              "      <th>4</th>\n",
              "      <td>02.mar.2021#</td>\n",
              "      <td>https://www.youtube.com/watch?v=aVoUcX4wLwU&amp;ab...</td>\n",
              "      <td>“Eu não posso ter nada contra pessoas negras, ...</td>\n",
              "    </tr>\n",
              "  </tbody>\n",
              "</table>\n",
              "</div>"
            ],
            "text/plain": [
              "           data  ...                                          afirmacao\n",
              "0  04.fev.2021#  ...  “Auxílio-emergencial (detalhes com o President...\n",
              "1  09.nov.2020#  ...  “Zombaram de mim, chamaram de capitão hidroxic...\n",
              "2  18.jun.2020#  ...  “Isso que foi usado por um chefe da equipe méd...\n",
              "3  12.jan.2021#  ...  “Aquele dinheiro que  vinha da Noruega, da Ale...\n",
              "4  02.mar.2021#  ...  “Eu não posso ter nada contra pessoas negras, ...\n",
              "\n",
              "[5 rows x 3 columns]"
            ]
          },
          "metadata": {
            "tags": []
          },
          "execution_count": 42
        }
      ]
    },
    {
      "cell_type": "code",
      "metadata": {
        "colab": {
          "base_uri": "https://localhost:8080/"
        },
        "id": "LwNVaoXqMHPB",
        "outputId": "51b2bfae-5bb0-48e5-f2b4-0b094d6628f6"
      },
      "source": [
        " pip install odfpy"
      ],
      "execution_count": 5,
      "outputs": [
        {
          "output_type": "stream",
          "text": [
            "Collecting odfpy\n",
            "\u001b[?25l  Downloading https://files.pythonhosted.org/packages/97/73/8ade73f6749177003f7ce3304f524774adda96e6aaab30ea79fd8fda7934/odfpy-1.4.1.tar.gz (717kB)\n",
            "\r\u001b[K     |▌                               | 10kB 15.4MB/s eta 0:00:01\r\u001b[K     |█                               | 20kB 21.0MB/s eta 0:00:01\r\u001b[K     |█▍                              | 30kB 12.3MB/s eta 0:00:01\r\u001b[K     |█▉                              | 40kB 10.5MB/s eta 0:00:01\r\u001b[K     |██▎                             | 51kB 7.8MB/s eta 0:00:01\r\u001b[K     |██▊                             | 61kB 7.7MB/s eta 0:00:01\r\u001b[K     |███▏                            | 71kB 8.1MB/s eta 0:00:01\r\u001b[K     |███▋                            | 81kB 8.3MB/s eta 0:00:01\r\u001b[K     |████▏                           | 92kB 8.1MB/s eta 0:00:01\r\u001b[K     |████▋                           | 102kB 8.3MB/s eta 0:00:01\r\u001b[K     |█████                           | 112kB 8.3MB/s eta 0:00:01\r\u001b[K     |█████▌                          | 122kB 8.3MB/s eta 0:00:01\r\u001b[K     |██████                          | 133kB 8.3MB/s eta 0:00:01\r\u001b[K     |██████▍                         | 143kB 8.3MB/s eta 0:00:01\r\u001b[K     |██████▉                         | 153kB 8.3MB/s eta 0:00:01\r\u001b[K     |███████▎                        | 163kB 8.3MB/s eta 0:00:01\r\u001b[K     |███████▊                        | 174kB 8.3MB/s eta 0:00:01\r\u001b[K     |████████▎                       | 184kB 8.3MB/s eta 0:00:01\r\u001b[K     |████████▊                       | 194kB 8.3MB/s eta 0:00:01\r\u001b[K     |█████████▏                      | 204kB 8.3MB/s eta 0:00:01\r\u001b[K     |█████████▋                      | 215kB 8.3MB/s eta 0:00:01\r\u001b[K     |██████████                      | 225kB 8.3MB/s eta 0:00:01\r\u001b[K     |██████████▌                     | 235kB 8.3MB/s eta 0:00:01\r\u001b[K     |███████████                     | 245kB 8.3MB/s eta 0:00:01\r\u001b[K     |███████████▍                    | 256kB 8.3MB/s eta 0:00:01\r\u001b[K     |███████████▉                    | 266kB 8.3MB/s eta 0:00:01\r\u001b[K     |████████████▍                   | 276kB 8.3MB/s eta 0:00:01\r\u001b[K     |████████████▉                   | 286kB 8.3MB/s eta 0:00:01\r\u001b[K     |█████████████▎                  | 296kB 8.3MB/s eta 0:00:01\r\u001b[K     |█████████████▊                  | 307kB 8.3MB/s eta 0:00:01\r\u001b[K     |██████████████▏                 | 317kB 8.3MB/s eta 0:00:01\r\u001b[K     |██████████████▋                 | 327kB 8.3MB/s eta 0:00:01\r\u001b[K     |███████████████                 | 337kB 8.3MB/s eta 0:00:01\r\u001b[K     |███████████████▌                | 348kB 8.3MB/s eta 0:00:01\r\u001b[K     |████████████████                | 358kB 8.3MB/s eta 0:00:01\r\u001b[K     |████████████████▌               | 368kB 8.3MB/s eta 0:00:01\r\u001b[K     |█████████████████               | 378kB 8.3MB/s eta 0:00:01\r\u001b[K     |█████████████████▍              | 389kB 8.3MB/s eta 0:00:01\r\u001b[K     |█████████████████▉              | 399kB 8.3MB/s eta 0:00:01\r\u001b[K     |██████████████████▎             | 409kB 8.3MB/s eta 0:00:01\r\u001b[K     |██████████████████▊             | 419kB 8.3MB/s eta 0:00:01\r\u001b[K     |███████████████████▏            | 430kB 8.3MB/s eta 0:00:01\r\u001b[K     |███████████████████▋            | 440kB 8.3MB/s eta 0:00:01\r\u001b[K     |████████████████████            | 450kB 8.3MB/s eta 0:00:01\r\u001b[K     |████████████████████▋           | 460kB 8.3MB/s eta 0:00:01\r\u001b[K     |█████████████████████           | 471kB 8.3MB/s eta 0:00:01\r\u001b[K     |█████████████████████▌          | 481kB 8.3MB/s eta 0:00:01\r\u001b[K     |██████████████████████          | 491kB 8.3MB/s eta 0:00:01\r\u001b[K     |██████████████████████▍         | 501kB 8.3MB/s eta 0:00:01\r\u001b[K     |██████████████████████▉         | 512kB 8.3MB/s eta 0:00:01\r\u001b[K     |███████████████████████▎        | 522kB 8.3MB/s eta 0:00:01\r\u001b[K     |███████████████████████▊        | 532kB 8.3MB/s eta 0:00:01\r\u001b[K     |████████████████████████▏       | 542kB 8.3MB/s eta 0:00:01\r\u001b[K     |████████████████████████▊       | 552kB 8.3MB/s eta 0:00:01\r\u001b[K     |█████████████████████████▏      | 563kB 8.3MB/s eta 0:00:01\r\u001b[K     |█████████████████████████▋      | 573kB 8.3MB/s eta 0:00:01\r\u001b[K     |██████████████████████████      | 583kB 8.3MB/s eta 0:00:01\r\u001b[K     |██████████████████████████▌     | 593kB 8.3MB/s eta 0:00:01\r\u001b[K     |███████████████████████████     | 604kB 8.3MB/s eta 0:00:01\r\u001b[K     |███████████████████████████▍    | 614kB 8.3MB/s eta 0:00:01\r\u001b[K     |███████████████████████████▉    | 624kB 8.3MB/s eta 0:00:01\r\u001b[K     |████████████████████████████▎   | 634kB 8.3MB/s eta 0:00:01\r\u001b[K     |████████████████████████████▉   | 645kB 8.3MB/s eta 0:00:01\r\u001b[K     |█████████████████████████████▎  | 655kB 8.3MB/s eta 0:00:01\r\u001b[K     |█████████████████████████████▊  | 665kB 8.3MB/s eta 0:00:01\r\u001b[K     |██████████████████████████████▏ | 675kB 8.3MB/s eta 0:00:01\r\u001b[K     |██████████████████████████████▋ | 686kB 8.3MB/s eta 0:00:01\r\u001b[K     |███████████████████████████████ | 696kB 8.3MB/s eta 0:00:01\r\u001b[K     |███████████████████████████████▌| 706kB 8.3MB/s eta 0:00:01\r\u001b[K     |████████████████████████████████| 716kB 8.3MB/s eta 0:00:01\r\u001b[K     |████████████████████████████████| 727kB 8.3MB/s \n",
            "\u001b[?25hRequirement already satisfied: defusedxml in /usr/local/lib/python3.7/dist-packages (from odfpy) (0.7.1)\n",
            "Building wheels for collected packages: odfpy\n",
            "  Building wheel for odfpy (setup.py) ... \u001b[?25l\u001b[?25hdone\n",
            "  Created wheel for odfpy: filename=odfpy-1.4.1-py2.py3-none-any.whl size=160691 sha256=9c3bd3c6ce99ececcd9f88d67dce312df511ae03e69a7c3b3f64e053f832f4b4\n",
            "  Stored in directory: /root/.cache/pip/wheels/ce/6b/93/ec330f2991c5f1546abf640360e5a2022f76cb16e5d99ed2fd\n",
            "Successfully built odfpy\n",
            "Installing collected packages: odfpy\n",
            "Successfully installed odfpy-1.4.1\n"
          ],
          "name": "stdout"
        }
      ]
    },
    {
      "cell_type": "code",
      "metadata": {
        "id": "I2B-c7GpL53w"
      },
      "source": [
        "df = pd.read_excel(\"/content/base_dados.ods\", engine=\"odf\")"
      ],
      "execution_count": 25,
      "outputs": []
    },
    {
      "cell_type": "code",
      "metadata": {
        "colab": {
          "base_uri": "https://localhost:8080/",
          "height": 660
        },
        "id": "QJaMB5QLOC1k",
        "outputId": "044015d4-b913-4ec5-c4d5-188dc6b68bc8"
      },
      "source": [
        "df.head()"
      ],
      "execution_count": 18,
      "outputs": [
        {
          "output_type": "execute_result",
          "data": {
            "text/html": [
              "<div>\n",
              "<style scoped>\n",
              "    .dataframe tbody tr th:only-of-type {\n",
              "        vertical-align: middle;\n",
              "    }\n",
              "\n",
              "    .dataframe tbody tr th {\n",
              "        vertical-align: top;\n",
              "    }\n",
              "\n",
              "    .dataframe thead th {\n",
              "        text-align: right;\n",
              "    }\n",
              "</style>\n",
              "<table border=\"1\" class=\"dataframe\">\n",
              "  <thead>\n",
              "    <tr style=\"text-align: right;\">\n",
              "      <th></th>\n",
              "      <th>País</th>\n",
              "      <th>Idioma</th>\n",
              "      <th>Afirmação checada</th>\n",
              "      <th>Classificação</th>\n",
              "      <th>Descrição</th>\n",
              "      <th>Data de publicação</th>\n",
              "      <th>Organização</th>\n",
              "      <th>Link para a checagem</th>\n",
              "      <th>Tipo de informação</th>\n",
              "      <th>Formato</th>\n",
              "      <th>Tipo de checagem</th>\n",
              "      <th>Publicação checada</th>\n",
              "      <th>Data em que a desinformação foi detectada</th>\n",
              "      <th>Origem</th>\n",
              "      <th>Fonte</th>\n",
              "      <th>Foi atualizado ou corrigido?</th>\n",
              "      <th>Outros países onde circulou</th>\n",
              "      <th>Unnamed: 17</th>\n",
              "      <th>Unnamed: 18</th>\n",
              "      <th>Unnamed: 19</th>\n",
              "      <th>Unnamed: 20</th>\n",
              "      <th>Unnamed: 21</th>\n",
              "      <th>Unnamed: 22</th>\n",
              "      <th>Unnamed: 23</th>\n",
              "      <th>Unnamed: 24</th>\n",
              "      <th>Unnamed: 25</th>\n",
              "      <th>Unnamed: 26</th>\n",
              "      <th>Unnamed: 27</th>\n",
              "      <th>Unnamed: 28</th>\n",
              "    </tr>\n",
              "  </thead>\n",
              "  <tbody>\n",
              "    <tr>\n",
              "      <th>0</th>\n",
              "      <td>Argentina</td>\n",
              "      <td>Espanhol</td>\n",
              "      <td>Confirmado um caso de Coronavírus em Santiago ...</td>\n",
              "      <td>Falso</td>\n",
              "      <td>O Ministério da Saúde da província afirmou que...</td>\n",
              "      <td>27/02/2020</td>\n",
              "      <td>Chequeado</td>\n",
              "      <td>https://chequeado.com/verificacionfb/no-no-se-...</td>\n",
              "      <td>Situação de um país</td>\n",
              "      <td>Imagem</td>\n",
              "      <td>Notícia falsa viralizada</td>\n",
              "      <td>https://drive.google.com/file/d/18MViCcWRoVVVg...</td>\n",
              "      <td>26/02/2020</td>\n",
              "      <td>Facebook</td>\n",
              "      <td>Desconhecido</td>\n",
              "      <td>NaN</td>\n",
              "      <td>NaN</td>\n",
              "      <td>NaN</td>\n",
              "      <td>NaN</td>\n",
              "      <td>NaN</td>\n",
              "      <td>NaN</td>\n",
              "      <td>NaN</td>\n",
              "      <td>NaN</td>\n",
              "      <td>NaN</td>\n",
              "      <td>NaN</td>\n",
              "      <td>NaN</td>\n",
              "      <td>NaN</td>\n",
              "      <td>NaN</td>\n",
              "      <td>NaN</td>\n",
              "    </tr>\n",
              "    <tr>\n",
              "      <th>1</th>\n",
              "      <td>Argentina</td>\n",
              "      <td>Espanhol</td>\n",
              "      <td>Confirmado um caso de Coronavírus em Chaco.</td>\n",
              "      <td>Falso</td>\n",
              "      <td>O Ministério da Saúde da província afirmou que...</td>\n",
              "      <td>27/02/2020</td>\n",
              "      <td>Chequeado</td>\n",
              "      <td>https://chequeado.com/verificacionfb/es-falso-...</td>\n",
              "      <td>Situação de um país</td>\n",
              "      <td>Imagem</td>\n",
              "      <td>Notícia falsa viralizada</td>\n",
              "      <td>https://drive.google.com/file/d/1SJ2-A3WCr-vod...</td>\n",
              "      <td>NaN</td>\n",
              "      <td>Facebook</td>\n",
              "      <td>Desconhecido</td>\n",
              "      <td>NaN</td>\n",
              "      <td>NaN</td>\n",
              "      <td>NaN</td>\n",
              "      <td>NaN</td>\n",
              "      <td>NaN</td>\n",
              "      <td>NaN</td>\n",
              "      <td>NaN</td>\n",
              "      <td>NaN</td>\n",
              "      <td>NaN</td>\n",
              "      <td>NaN</td>\n",
              "      <td>NaN</td>\n",
              "      <td>NaN</td>\n",
              "      <td>NaN</td>\n",
              "      <td>NaN</td>\n",
              "    </tr>\n",
              "    <tr>\n",
              "      <th>2</th>\n",
              "      <td>Argentina</td>\n",
              "      <td>Espanhol</td>\n",
              "      <td>Um médico argentino descobriu e está aplicando...</td>\n",
              "      <td>Falso</td>\n",
              "      <td>A OMS informa que até o momento não existe uma...</td>\n",
              "      <td>27/02/2020</td>\n",
              "      <td>Chequeado</td>\n",
              "      <td>https://chequeado.com/verificacionfb/es-falso-...</td>\n",
              "      <td>Curas</td>\n",
              "      <td>Imagem, Texto</td>\n",
              "      <td>Notícia falsa viralizada</td>\n",
              "      <td>https://drive.google.com/file/d/1FYpMz5CN3ZyyS...</td>\n",
              "      <td>NaN</td>\n",
              "      <td>Redes sociais, Whatsapp</td>\n",
              "      <td>Desconhecido</td>\n",
              "      <td>NaN</td>\n",
              "      <td>Espanha</td>\n",
              "      <td>NaN</td>\n",
              "      <td>NaN</td>\n",
              "      <td>NaN</td>\n",
              "      <td>NaN</td>\n",
              "      <td>NaN</td>\n",
              "      <td>NaN</td>\n",
              "      <td>NaN</td>\n",
              "      <td>NaN</td>\n",
              "      <td>NaN</td>\n",
              "      <td>NaN</td>\n",
              "      <td>NaN</td>\n",
              "      <td>NaN</td>\n",
              "    </tr>\n",
              "    <tr>\n",
              "      <th>3</th>\n",
              "      <td>Argentina</td>\n",
              "      <td>Espanhol</td>\n",
              "      <td>Presidente da Argentina, Alberto Fernández: “A...</td>\n",
              "      <td>Falso</td>\n",
              "      <td>A OMS não emitiu nenhuma recomendação sobre o ...</td>\n",
              "      <td>12/03/2020</td>\n",
              "      <td>Chequeado</td>\n",
              "      <td>https://chequeado.com/ultimas-noticias/alberto...</td>\n",
              "      <td>Curas</td>\n",
              "      <td>Áudio</td>\n",
              "      <td>Checagem de figuras públicas</td>\n",
              "      <td>NaN</td>\n",
              "      <td>03/12/2020</td>\n",
              "      <td>Outros</td>\n",
              "      <td>O presidente de Argentina, Alberto Fernández</td>\n",
              "      <td>NaN</td>\n",
              "      <td>Espanha, Hong Kong, Colômbia</td>\n",
              "      <td>NaN</td>\n",
              "      <td>NaN</td>\n",
              "      <td>NaN</td>\n",
              "      <td>NaN</td>\n",
              "      <td>NaN</td>\n",
              "      <td>NaN</td>\n",
              "      <td>NaN</td>\n",
              "      <td>NaN</td>\n",
              "      <td>NaN</td>\n",
              "      <td>NaN</td>\n",
              "      <td>NaN</td>\n",
              "      <td>NaN</td>\n",
              "    </tr>\n",
              "    <tr>\n",
              "      <th>4</th>\n",
              "      <td>Argentina</td>\n",
              "      <td>Espanhol</td>\n",
              "      <td>O presidente de Argentina, Alberto Fernández, ...</td>\n",
              "      <td>Não se sustenta</td>\n",
              "      <td>Ainda não existe consenso científico sobre o i...</td>\n",
              "      <td>12/03/2020</td>\n",
              "      <td>Chequeado</td>\n",
              "      <td>https://chequeado.com/ultimas-noticias/alberto...</td>\n",
              "      <td>Características do vírus</td>\n",
              "      <td>Áudio</td>\n",
              "      <td>Checagem de figuras públicas</td>\n",
              "      <td>NaN</td>\n",
              "      <td>03/12/2020</td>\n",
              "      <td>Outros</td>\n",
              "      <td>O presidente de Argentina, Alberto Fernández</td>\n",
              "      <td>NaN</td>\n",
              "      <td>México</td>\n",
              "      <td>NaN</td>\n",
              "      <td>NaN</td>\n",
              "      <td>NaN</td>\n",
              "      <td>NaN</td>\n",
              "      <td>NaN</td>\n",
              "      <td>NaN</td>\n",
              "      <td>NaN</td>\n",
              "      <td>NaN</td>\n",
              "      <td>NaN</td>\n",
              "      <td>NaN</td>\n",
              "      <td>NaN</td>\n",
              "      <td>NaN</td>\n",
              "    </tr>\n",
              "  </tbody>\n",
              "</table>\n",
              "</div>"
            ],
            "text/plain": [
              "        País    Idioma  ... Unnamed: 27 Unnamed: 28\n",
              "0  Argentina  Espanhol  ...         NaN         NaN\n",
              "1  Argentina  Espanhol  ...         NaN         NaN\n",
              "2  Argentina  Espanhol  ...         NaN         NaN\n",
              "3  Argentina  Espanhol  ...         NaN         NaN\n",
              "4  Argentina  Espanhol  ...         NaN         NaN\n",
              "\n",
              "[5 rows x 29 columns]"
            ]
          },
          "metadata": {
            "tags": []
          },
          "execution_count": 18
        }
      ]
    },
    {
      "cell_type": "code",
      "metadata": {
        "id": "O_oZh718MNOq"
      },
      "source": [
        "df.drop(columns=['Unnamed: 17', \t'Unnamed: 18', \t'Unnamed: 19',\t'Unnamed: 20', \t'Unnamed: 21', \t'Unnamed: 22', \t'Unnamed: 23', \t'Unnamed: 24', \t'Unnamed: 25', \t'Unnamed: 26', \t'Unnamed: 27', \t'Unnamed: 28'], axis=1, inplace=True)"
      ],
      "execution_count": 26,
      "outputs": []
    },
    {
      "cell_type": "code",
      "metadata": {
        "id": "6rTZxjKjOhAF"
      },
      "source": [
        "data = df.to_csv('/content/base_dados.csv', index=False)"
      ],
      "execution_count": 27,
      "outputs": []
    },
    {
      "cell_type": "code",
      "metadata": {
        "id": "7_Lnfn-nOtF1"
      },
      "source": [
        "df = pd.read_csv('/content/base_dados.csv')"
      ],
      "execution_count": 37,
      "outputs": []
    },
    {
      "cell_type": "code",
      "metadata": {
        "id": "L3Posm9LOxea"
      },
      "source": [
        "# Retirando as colunas que não interessam ao projeto\n",
        "\n",
        "novo_dataset = df.drop(columns=['País',\n",
        "                                'Data de publicação',\n",
        "                                'Idioma', \n",
        "                                'Descrição', \n",
        "                                'Organização', \n",
        "                                'Publicação checada', \n",
        "                                'Data em que a desinformação foi detectada',\n",
        "                                'Origem', \n",
        "                                'Tipo de checagem',\n",
        "                                'Formato',\n",
        "                                'Tipo de informação',\n",
        "                                'Fonte', \n",
        "                                'Foi atualizado ou corrigido?',\n",
        "                                'Outros países onde circulou'])"
      ],
      "execution_count": 88,
      "outputs": []
    },
    {
      "cell_type": "code",
      "metadata": {
        "colab": {
          "base_uri": "https://localhost:8080/",
          "height": 206
        },
        "id": "O82KC0uzP9Dx",
        "outputId": "eeae2c7f-8ee3-4c91-8107-51e885c92138"
      },
      "source": [
        "novo_dataset.head()"
      ],
      "execution_count": 89,
      "outputs": [
        {
          "output_type": "execute_result",
          "data": {
            "text/html": [
              "<div>\n",
              "<style scoped>\n",
              "    .dataframe tbody tr th:only-of-type {\n",
              "        vertical-align: middle;\n",
              "    }\n",
              "\n",
              "    .dataframe tbody tr th {\n",
              "        vertical-align: top;\n",
              "    }\n",
              "\n",
              "    .dataframe thead th {\n",
              "        text-align: right;\n",
              "    }\n",
              "</style>\n",
              "<table border=\"1\" class=\"dataframe\">\n",
              "  <thead>\n",
              "    <tr style=\"text-align: right;\">\n",
              "      <th></th>\n",
              "      <th>Afirmação checada</th>\n",
              "      <th>Classificação</th>\n",
              "      <th>Link para a checagem</th>\n",
              "    </tr>\n",
              "  </thead>\n",
              "  <tbody>\n",
              "    <tr>\n",
              "      <th>0</th>\n",
              "      <td>Confirmado um caso de Coronavírus em Santiago ...</td>\n",
              "      <td>Falso</td>\n",
              "      <td>https://chequeado.com/verificacionfb/no-no-se-...</td>\n",
              "    </tr>\n",
              "    <tr>\n",
              "      <th>1</th>\n",
              "      <td>Confirmado um caso de Coronavírus em Chaco.</td>\n",
              "      <td>Falso</td>\n",
              "      <td>https://chequeado.com/verificacionfb/es-falso-...</td>\n",
              "    </tr>\n",
              "    <tr>\n",
              "      <th>2</th>\n",
              "      <td>Um médico argentino descobriu e está aplicando...</td>\n",
              "      <td>Falso</td>\n",
              "      <td>https://chequeado.com/verificacionfb/es-falso-...</td>\n",
              "    </tr>\n",
              "    <tr>\n",
              "      <th>3</th>\n",
              "      <td>Presidente da Argentina, Alberto Fernández: “A...</td>\n",
              "      <td>Falso</td>\n",
              "      <td>https://chequeado.com/ultimas-noticias/alberto...</td>\n",
              "    </tr>\n",
              "    <tr>\n",
              "      <th>4</th>\n",
              "      <td>O presidente de Argentina, Alberto Fernández, ...</td>\n",
              "      <td>Não se sustenta</td>\n",
              "      <td>https://chequeado.com/ultimas-noticias/alberto...</td>\n",
              "    </tr>\n",
              "  </tbody>\n",
              "</table>\n",
              "</div>"
            ],
            "text/plain": [
              "                                   Afirmação checada  ...                               Link para a checagem\n",
              "0  Confirmado um caso de Coronavírus em Santiago ...  ...  https://chequeado.com/verificacionfb/no-no-se-...\n",
              "1       Confirmado um caso de Coronavírus em Chaco.   ...  https://chequeado.com/verificacionfb/es-falso-...\n",
              "2  Um médico argentino descobriu e está aplicando...  ...  https://chequeado.com/verificacionfb/es-falso-...\n",
              "3  Presidente da Argentina, Alberto Fernández: “A...  ...  https://chequeado.com/ultimas-noticias/alberto...\n",
              "4  O presidente de Argentina, Alberto Fernández, ...  ...  https://chequeado.com/ultimas-noticias/alberto...\n",
              "\n",
              "[5 rows x 3 columns]"
            ]
          },
          "metadata": {
            "tags": []
          },
          "execution_count": 89
        }
      ]
    },
    {
      "cell_type": "code",
      "metadata": {
        "colab": {
          "base_uri": "https://localhost:8080/"
        },
        "id": "wsLkhwbKSsLf",
        "outputId": "5b7ad2c8-27e8-4ea7-8b05-ee9a6d3d6c86"
      },
      "source": [
        "novo_dataset.Classificação.unique()"
      ],
      "execution_count": 56,
      "outputs": [
        {
          "output_type": "execute_result",
          "data": {
            "text/plain": [
              "array(['Falso', 'Não se sustenta', 'Dúbio', 'Fora de contexto', nan,\n",
              "       'Viral', 'Impreciso', 'Questionável ', 'Verdadeiro',\n",
              "       'Checagem Múltipla', 'Verdadeiro, mas', 'Certo, mas', 'Certo',\n",
              "       'Precipitado', 'Questionável', 'Verificação múltipla', 'Incerto',\n",
              "       'O ministro da Saúde, Daniel Salas, se referiu a várias correntes e áudios compartilhados nas redes sociais, nas quais é afirmado que tomar anti-inflamatórios, como o ibuprofeno ou naproxeno, agravam infecções por coronavírus.',\n",
              "       'Boato',\n",
              "       'Em 2012, quando o FMI se referiu às \"implicações financeiras potencialmente muito grandes do risco de longevidade\". Não há evidências de que Christine Lagarde tenha dito isso.',\n",
              "       'A frase é possivelmente baseada no \"Relatório Global de Estabilidade Financeira (GFSR)\" publicado em 2012 pelo FMI. Lagarde não esteve presente na apresentação da conferência de imprensa.',\n",
              "       ' quem \"deu positivo\"  para coronavírus e está \"em quarentena no hospital\".\"',\n",
              "       'A publicação foi apagada e o Podermos afirmou que ela não ocupa cargo oficial no partido.',\n",
              "       'O vídeo não é atual, Foi gravado em 12 de outubro de 2019, no Vale dos Caídos, alguns dias antes da exumação do ditador Francisco Franco.',\n",
              "       'A imagem circula desde 2017 em vários países, mas é falsa.',\n",
              "       'Não verificável', 'Manipulado', 'Sátira',\n",
              "       'Quando Gutiérrez fez a declaração, quatro das oito regiões citadas já contavam com um plano de reforço dos serviços de saúde e contenção da Covid-19, segundo as resoluções dos governos regionais de Ica, Piura, Ancash e Pasco. ',\n",
              "       'A fibrose tem muitos outros sintomas e é mais difícil de diagnosticar do que prender a respiração por 10 segundos.',\n",
              "       'Meia verdade', 'Duvidoso',\n",
              "       'É uma farsa: o áudio já é compartilhado desde o dia 7 de abril, em formato de texto assinado por \"José T.',\n",
              "       ' do escritor israelense Yuval Noah Harari.\"',\n",
              "       'quarentena administrada\" e \"quarentena comunitária\"? ',\n",
              "       'O gráfico não é um material oficial da Orgzanização Mundial da Saúde (OMS), ainda que apareça a logo da instituição.',\n",
              "       'Falso ', 'Parcialmente falso',\n",
              "       'O documento do Banco Mundial a que a publicação se refere não faz essa afirmação. O texto, que trata da gestão de riscos e da facilitação do comércio em meio à pandemia, menciona apenas a redução temporária da alíquota do imposto de importação de produtos anti-sépticos adotada pelo Brasil como um exemplo de “melhores práticas para lidar com o COVID-19”.',\n",
              "       'Não há evidências científicas para apoiar esta teoria. Não há conexão entre a morte do vírus e a temperatura das casas.',\n",
              "       'Na verdade, as fotos foram tiradas na Venezuela em 2019, após um assalto a banco. A moeda havia mudado e as notas eram inúteis. ',\n",
              "       'Dúbio ', 'Não há registro de que o ministro tenha dito isso.',\n",
              "       'Esta imagem de uma infecção na garganta é anterior à nova pandemia de coronavírus.',\n",
              "       'O conteúdo foi retirado de um site que apresenta o aviso legal de que é um \"site de humor\" e que não há registro de nenhuma declaração do tipo. ',\n",
              "       ' ', 'Checagem múltipla', 'Sem dados', 'Enganoso',\n",
              "       'Publicações partilhadas alegam que o regime chinês terá criado o novo coronavírus em laboratório como forma de controlo populacional.',\n",
              "       'Em publicação que se espalhou nas redes sociais destaca-se que o presidente da República Popular da China, Xi Jinping, terá afirmado que \"chegou a hora de a China liderar o mundo',\n",
              "       'Em publicação nas redes sociais denuncia-se que o Reino Unido terá encomendado milhões de testes de deteção do coronavírus à China, \"mas nenhum deles funciona\".',\n",
              "       'Em publicação nas redes sociais, adaptada a várias línguas (incluindo a portuguesa), destaca-se que o Prémio Nobel da Medicina de 2018, Tasuku Honjo, terá alegado que o novo coronavírus foi fabricado artificialmente num laboratório na China. \"A China está a mentir e a verdade um dia será revelada',\n",
              "       'Parcialmente Falso',\n",
              "       'O presidente nunca disse tal frase ou sequer uma frase similar.',\n",
              "       'Discutível', 'Distorcido',\n",
              "       'Seis países do Caribe têm zero mortes, mesmo com 93 casos, enquanto o Haiti e a Nicarágua têm taxas de contágios mais baixas do que a Venezuela.',\n",
              "       'Verifica-se a afirmação do Presidente da Guatemala, na qual ele afirma que a curva de contágio não chega a 45 graus. No entanto, uma infectologista e um epidemiologista dizem que esse argumento não é válido',\n",
              "       'Existem estudos que demostram que pessoas assintomáticas também podem contagiar,  só que ainda não foi determinada a frequência com que isto ocorre.',\n",
              "       'Impreciso ',\n",
              "       'O especialista lamentou que seu nome fosse usado para gerar desinformação. Além disso, ele lembrou que a divulgação dessas declarações são uma distração do verdadeiro problema.',\n",
              "       'Estas cabines não podem matar os vírus que já tenham entrado no corpo e não há probas suficientes de que sejam seguros para a saúde das pessoas que recebem o desinfetante na pele. ',\n",
              "       'Mentira oficial sobre a decisão de aumentar o salário mínimo na Venezuela.',\n",
              "       ' o novo coronavírus \"foi claramente manipulado\".\"',\n",
              "       'a verdadeira pandemia vem do surto de SARS\".',\n",
              "       'as vacinas contra gripe contêm coronavírus\".',\n",
              "       'A postagem é falsa. O Vaticano disse que o Papa Francisco recentemente ficou doente com um resfriado comum; o site que postou a alegação enganosa não é uma organização de mídia respeitável.',\n",
              "       ' disse Karen Longaric',\n",
              "       'A legenda do gerador de caracteres, que foi capturada durante uma entrevista em Todo Noticias (TN) na última segunda-feira, foi editada e manipulada para desinformar.',\n",
              "       'Verificação de quantos vôos entraram durante o primeiro mês da pandemia na Guatemala, quantos deportados foram no total e quantos foram testados.',\n",
              "       'É uma fotomontagem em que o pôster falso substitui outro pendurado pelo PSOE durante a campanha para as eleições gerais de 10 de novembro.',\n",
              "       'Um posto sobre a votação dos deputados federais que teriam votado e rejeitado uma proposta de \"renunciar a seus salários e ao fundo parlamentar\",\"07/04/2020',\n",
              "       ' mas fornece falsas evidências sobre esse cargo) mistura várias teorias da conspiração',\n",
              "       'Embora seja verdade que uma condição como a Doença Renal Crônica (DRC) seja comórbida em casos de mortes contadas no México pela Covid-19, é impreciso dizer que algumas doenças urológicas o são.',\n",
              "       'O governo de Buenos Aires relata que passou de 422 para 976. Segundo dados oficiais, as unidades de terapia intensiva foram adicionadas na proporção indicada pelo governador de Buenos Aires. No entanto, a duplicação de leitos não foi acompanhada na mesma proporção por médicos e especialistas que os atendem.',\n",
              "       'Argentina recebeu um convite oficial para participar do ensaio clínico internacional \"Solidariedade',\n",
              "       'Ainda é cedo para dizer',\n",
              "       'Esta afirmação, feita pelo candidato Ismael Reyes, é falsa, depois que se constata que para 2020, a Lei do Orçamento Geral do Estado registra o valor de RD$ 997.119,2',\n",
              "       'Não é certo. É um site de uma entidade privada que não tem nenhuma relação com as Nações Unidas.',\n",
              "       'A imagem que circula nas redes sociais foi manipulada',\n",
              "       'Embora a caravana tenha acontecido, o Cacif se desligou da convocação.',\n",
              "       'Sem evidências', ' sobre a pandemia de coronavírus\"',\n",
              "       'Nenhum país da América Latina e Caribe tem um sistema de vigilância epidemiológica da população com base em testes diagnósticos, construindo esse sistema \"no processo\". República Dominicana reabriu a economia em 20 de maio. Haverá várias etapas de reabertura.',\n",
              "       'No Brasil, nos Estados Unidos e alguns países europeus, aos quais o funcionário se referiu expressamente, registram uma maior letalidade nas áreas mais periféricas.',\n",
              "       'O prefeito Felipe Harman estava certo na porcentagem, mas não esclareceu que estava falando sobre contágios detectados, o que foi importante porque as medidas de disseminação e detecção são diferentes dentro e fora da prisão.',\n",
              "       'Essa declaração é questionável à luz da lei e dos decretos presidenciais que regulam a medida de quarentena de 22 de março e suas respectivas extensões.',\n",
              "       'Na Espanha,  não se passaram dois dias sem mortes pela Covid-19. Na mesma quarta-feira em que Pedro Sánchez fez essa declaração, Fernando Simón anunciou horas depois, em sua entrevista coletiva diária, que no dia anterior, na terça-feira 2 de junho, uma pessoa havia morrido de coronavírus em Castilla e León.',\n",
              "       'Tirado do contexto',\n",
              "       'Na cidade, os casos em bairros populares são menos de 40% do total e na província, menos de 20%, embora nessas áreas a população infectada tenha sido procurada mais ativamente até agora do que o restante da população. Os especialistas enfatizam que nessas áreas é mais difícil cumprir o distanciamento e as medidas de higiene recomendadas. Aqueles com mais de 60 anos representam cerca de 15% do total de infecções na cidade e na província, mas 80% das mortes.',\n",
              "       'Insustentável', '06/06/2020',\n",
              "       ' mas que suas políticas contra a COVID-19 estão levando a um \"genocídio\".\"',\n",
              "       'Em um vídeo viralizado, uma pessoa afirma que a cura do coronavírus está pronta. \"Ele foi derrotado',\n",
              "       'Segundo a lista da Invima, os testes realizados no município de Tolimense estão permitidos e se enquadram na categoria \"teste rápido\".',\n",
              "       'O horário do esporte na capital de Antioquia foi restringido das 14 às 15 porque um estudo preliminar afirmou que a deficiência de vitamina D está associada à taxa de mortalidade por COVID-19.',\n",
              "       'A evidência da declaração  do ministro foi solicitada ao Ministério da Saúde, mas não houve resposta. Especialistas em saúde negaram que a morte de COVID-19 pudesse estar relacionada ao consumo da Red Bull.',\n",
              "       ' porque é um conceito chave e o que se faz na Argentina?\"',\n",
              "       'É um erro: a informação é de 2018 e é apresentada como atual. ',\n",
              "       'Esta é uma teoria da conspiração que já foi refutada.',\n",
              "       'A taxa de mortalidade em Buenaventura é de 6,38%, uma porcentagem que excede cidades como Bogotá que possui uma taxa de 2,42 ou Cali, onde a taxa de mortalidade é de 4,44%.',\n",
              "       'Uma série de perfis falsos do cantor porto-riquenho procura enganar seus seguidores com ofertas de dinheiro em meio à pandemia.',\n",
              "       'Os novos candidatos às vacinas de RNA e DNA são experimentais, mas de nenhuma maneira são capazes de modificar  material genético humano.',\n",
              "       'Vários sites ecoaram as referidas notícias, alegando que o Tribunal de Haia aceitou uma queixa contra Pedro Sánchez por \"genocídio\" devido à administração do governo da pandemia causada pelo Covid-19. Não é bem assim. O Tribunal Penal Internacional explicou que \"confirmou o recebimento da denúncia\". Além disso, ele acrescentou que, como um tribunal, o faz \"com todas essas reclamações, revisaremos os materiais apresentados, conforme apropriado, de acordo com o Estatuto de Roma e com total independência e imparcialidade\".',\n",
              "       ' um dispositivo que teoricamente ioniza o ar ao redor da cabeça\"',\n",
              "       'O chefe do sindicato aeronáutico APLA esclareceu mais tarde na mesma entrevista que se referia a toda a holding e não à subsidiária argentina. Os dados mostram que o grupo obteve lucros de US$ 500 milhões em 2018 e 2019. No entanto, omitiu que se for levado em consideração o caso particular da LAN Argentina, essa subsidiária causou prejuízos nos últimos 2 anos, totalizando US$ 265 milhões, sendo a filial da região com as maiores perdas. No primeiro trimestre de 2020, já devido aos efeitos da pandemia, todo o grupo perdeu US$ 2.120 milhões, segundo foi confirmado pela própria empresa.',\n",
              "       'O homem repete no vídeo teorias conspiratórias que têm sido desmentidas por checadores de notícias em diversos países, incluindo a Colômbia. As afirmações apresentadas no vídeo são falsas. ',\n",
              "       'O Ministério da Saúde, o governo do estado do Rio Grande do Sul e a prefeitura dizem que as transferências são calculadas com base no tamanho da população em cada localidade e no nível de complexidade dos equipamentos de saúde. O volume de mortes ou suspeitos de novas infecções por coronavírus não é levado em consideração.',\n",
              "       'É verdade que a Comissão Europeia pretende reduzir os prazos de desenvolvimento da vacina contra a Covid-19, mas isso não tem relação com o fato de que \"anulará as regras',\n",
              "       'O governador de Jujuy não descartou a possibilidade de isso acontecer, mas não se referiu a planos específicos. A Assessoria de Imprensa da governação confirmou que não há protocolo para a transferência de pessoas com Covid-19 para essa província.',\n",
              "       '01/07/2020',\n",
              "       ' o aplicativo de rastreamento de contatos que a Espanha está testando em La Gomera\"',\n",
              "       'É um engano. O Rei Felipe VI e a Rainha Letizia estão usando esse veículo, da marca Mercedes, mas não é uma compra recente. Ele foi adquirido em setembro de 2019.',\n",
              "       'Verdadeiro ',\n",
              "       'É o terceiro departamento com os leitos de cuidados intensivos do país.',\n",
              "       ' como se tivesse previsto a atual pandemia de coronavírus\"',\n",
              "       'Em teoria, essa medição seria uma prova de que as máscaras não são saudáveis, uma vez que impedem de respirar bem. No entanto, o vídeo está cheio de falsidades que desacreditam a suposta prova. Além disso, é impossível garantir que o experimento seja realmente realizado e que as indicações mostradas sejam reais.',\n",
              "       'O Fundo de Seguridade Social da Costa Rica (CCSS, por sua sigla em espanhol) emitiu uma nota na qual desmentiu questão.',\n",
              "       ' e essa declaração é atribuída a James EK Hildreth',\n",
              "       'Essa crença está baseada em profecias religiosas e dados enganosos.',\n",
              "       'No início de junho, Fernando Ruiz denunciou a má administração de UTIs em algumas regiões do país. Mas em algumas publicações os usuários descontextualizaram suas palavras.',\n",
              "       'Existem posts no Facebook e Instagram que indicam que a OMS admitiu isso. A alegação vem de uma postagem no blog que deturpa um artigo do portal americano Washington Examiner sobre as declarações de um funcionário da agência mundial da saúde. Em seu artigo, a mídia estadunidense não menciona que a OMS sugeriu que \"talvez nunca houve motivo para confinamento\".',\n",
              "       'Nicolás Maduro garante que a metodologia aplicada de 7 dias de flexibilização e 7 dias de quarentena permitiu o controle de casos de coronavírus. Os números oficiais indicam o contrário.',\n",
              "       ' incluindo o coronavírus',\n",
              "       'A imagem foi feita em 2014 no Instituto Nacional de Alergias e Doenças Infecciosas, em Maryland (Estados Unidos). Além disso, Melinda Gates não aparece na foto. ',\n",
              "       ' Bolsonaro foi curado da COVID-19 em sete dias.\"',\n",
              "       ' o que levou a um pico de contágios',\n",
              "       'Nenhuma das comunidades autônomas mencionadas na mensagem está distribuindo máscaras gratuitas nessas condições.',\n",
              "       'É mentira: refere-se a um artigo de opinião do Washington Examiner no qual isso não é mencionado e se baseia em declarações da diretora da unidade de zoonoses e doenças emergentes da OMS, Maria Van Kerkhove, sobre a transmissão de coronavírus em pessoas assintomáticas referidas como \"incomum\".',\n",
              "       'A imagem é de outro empresário, Luis Barsallo, que vende o mesmo produto a um preço justo em Callao. Por esse motivo, ele foi batizado como o \"anjo do oxigênio\". Mario Romero tinha um apelido semelhante, mas ele trabalhou em San Juan de Miraflores.',\n",
              "       'A publicação alegou que \"as políticas de vacina de Bill Gates\" contra a poliomielite desencadearam uma epidemia de paralisia flácida aguda, o que é falso.',\n",
              "       'Embora os especialistas concordem que essa é uma possibilidade, eles também destacam que outros fatores são ainda mais importantes, como carga viral, número de receptores de vírus e, acima de tudo, baixa confiabilidade dos testes rápidos.',\n",
              "       'A foto foi tirada pelo fotógrafo Jean-Marc Giboux, em Serra Leoa, em 1998, para retratar as consequências da poliomielite em crianças que não puderam ser vacinadas contra a doença.',\n",
              "       'As imagens, viralizadas nas redes sociais, foram gravadas em janeiro, durante um protesto trabalhista em um hospital de Paris.',\n",
              "       'No nível nacional, o pessoal de saúde representa 7,5% do total de contágios. Tanto na cidade  de Buenos Aires quanto nos 40 municípios da região metropolitana da cidade que compõem a AMBA, são registradas porcentagens semelhantes, entre 7% e 8%. Morales disse esta frase em 6 de julho passado. Ou seja, há 2 semanas. Naquela época, os números eram semelhantes aos atuais, entre 7% e 8%, embora em abril e maio tivessem ultrapassado 20%.',\n",
              "       ' um alegado \"replicante que é ativado por 5G\" e que por isso',\n",
              "       'A Fundação não foi expulsa do país e é um de seus principais parceiros. Além disso, as alegações sobre as vacinas são falsas.',\n",
              "       'Circula uma mensagem em redes que não conhecem a carreira profissional do infectologista e atual conselheiro do presidente do país, Alberto Fernández, em questões de saúde. No entanto, de acordo com o índice Scopus - que mede a qualidade científica -, Pedro Cahn foi citado por pares em mais de 8.658 artigos. Além disso, de acordo com o mecanismo de busca do PubMed, isso é mencionado pelo menos em 283 investigações. Quem escreveu o tweet, apesar de afirmar ser um \"pesquisador da Conicet\" em sua biografia, não aparece na folha de pagamento da agência estadual e sua imagem pertence a outro médico.',\n",
              "       ' como diz o presidente do governo', '23/07/2020',\n",
              "       'O local não é um hospital em si, é uma sala de espera antes de entrar no hospital.',\n",
              "       'O recente relatório do OCHA sobre a situação da COVID-19 na Venezuela revela uma maior incidência de infecções por transmissão comunitária. Os números oficiais confirmam a veracidade desta afirmação.',\n",
              "       'O teste de PCR não danifica a barreira hematoencefálica, que também não envolve o cérebro',\n",
              "       'O blog interpreta as informações de um artigo publicado em inglês e, com muita opinião, afirma que a organização teria repensado suas políticas. Isso é falso, a OMS não disse isso.',\n",
              "       'Ainda que ambas as medidas aumentem o risco de contágio da COVID-19, não há dados que confirmem ou excluam a comparação feita entre elas pela prefeita de Bogotá, Claudia López.',\n",
              "       'Como já foi dito, não há evidências de que tomar aspirina, limões ou paracetamol, ou fazer nebulizações ou vaporizações sejam eficazes para curar o coronavírus.',\n",
              "       'O governador de Buenos Aires falou da \"quarentena intermitente\" que algumas cidades do mundo estão experimentando e deu o exemplo da cidade espanhola. No entanto, Barcelona não está em quarentena estrita e seu governo tinha apenas uma série de recomendações de saúde pública. Isso é observado nos regulamentos e foi apontado pela Embaixada da Espanha na Argentina. Desde 21 de junho, o referido país suspendeu o estado de alarme que permitia quarentenas estritas. Apenas se aplica a obrigatoriedade do distanciamento social e o uso de máscaras.',\n",
              "       'O número de habitantes não é uma métrica adequada para determinar os locais de teste da vacina. A pesquisa precisa de locais com alto potencial de infecção para acelerar os resultados. A vacina Sinovac Biotech também foi testada na China antes.',\n",
              "       'A foto é uma montagem, feita a partir de uma imagem feita nos Estados Unidos em 2019',\n",
              "       'Em uma entrevista, o presidente norte-americano disse isso, mas o Facebook retirou o vídeo. Especialistas concordam que a afirmação não se sustenta. ',\n",
              "       ' uma \"equipe\" de médicos que se caracteriza por defender e compartilhar informações falsas ou fora de contexto sobre curas',\n",
              "       ' não tomar banho à noite e não consumir refrigerantes e doces são medidas necessárias que',\n",
              "       ' sitio oficial do Governo da Bolívia sobre a COVID-19',\n",
              "       'Un relatório da Fundação Observatório PyME indica que no início de junho havia 85% das empresas abertas no país. Outro estudo da União Industrial Argentina (UIA) informou que em julho apenas 6,1% das empresas analisadas não estavam operando. No entanto, ambos os estudos indicam que a maioria dessas empresas estava operando parcialmente e destacam quedas nas vendas em comparação com os níveis pré-pandêmicos.',\n",
              "       'Após uma comparação dos números oficiais do governo de Nicolás Maduro com dados confiáveis \\u200b\\u200bde outros países latinos, conclui-se que a Venezuela não tem o maior número de aplicações de testes por milhão de habitantes.',\n",
              "       'A frase foi dita pelo prefeito da capital de Tolima, mas ele errou o cálculo: a cifra correta é 0,5 contaminado com COVID-19 por 100 habitantes.',\n",
              "       'Uma mensagem erroneamente atribuída ao imunologista colombiano Manuel Elkin Patarroyo divulga falsa informação sobre o leite materno, as vacinas e vários medicamentos.',\n",
              "       'O ex-futebolista referiu-se ao projeto de lei proposto pela Frente de Todos, denominado “Contribuição Solidária, Extraordinária e pela única vez vinculada ao patrimônio da pessoa humana”. A partir de sua conta verificada no Instagram, o ex-técnico da Seleção Nacional declarou: \"peço a Deus que aprove a lei de Contribuição Solidária das Grandes Fortunas\". E disse, dirigindo-se ao presidente Alberto Fernández: “Por isso estou à sua disposição”.',\n",
              "       'O texto desinformante está vinculado a Robert F. Kennedy Jr., embora não existam registros de que isso seja verdade. Novos desenvolvimentos em vacinas de RNA mensageiro (mRNA) não modificam geneticamente o DNA humano. A Organização Mundial da Saúde (OMS) afirma que as vacinas desenvolvidas de acordo com seus parâmetros são seguras.',\n",
              "       ' vinculada ao governo.\"',\n",
              "       ' no qual há uma série de afirmações sobre as vacinas contra a COVID-19\"',\n",
              "       'Sánchez disse que o confinamento \"não existia\" durante a fase de desaceleração, quando as restrições do estado de alarme foram gradualmente reduzidas. Além disso, o primeiro mandatário espanhol afirmou na entrevista que o confinamento existiu nos meses de março e abril. ',\n",
              "       ' grupos que divulgam desinformações sobre o coronavírus?\"',\n",
              "       'Refere-se a uma conversa do Reddit, na qual Gates não fala isso. ',\n",
              "       'O legislador de Buenos Aires negou publicamente essa afirmação em duas ocasiões e argumentou que se trata de uma imagem manipulada. A suposta captura do tweet da deputada da Frente para Todos foi manipulada e tem um design diferente do Twitter oficial, em tipografia e detalhes. Além disso, não há registros de que Fernández tenha dito essa frase publicamente, embora tenha formulado outras críticas a quem não respeita a quarentena.',\n",
              "       ' algo que associam a um \"estado policial ao estilo chinês\"\"',\n",
              "       'The Lancet não nega a existência da pandemia, apenas usa outro nome que inclui pandemia e outros elementos.',\n",
              "       'Uma matéria publicada pelo site \"Notícias Proféticas\" está circulando nas redes sociais, citando alegadas declarações do líder da  (OMS), Tedros Adhanom Ghebreyesus, nas quais ele teria alertado sobre a chegada de uma nova pandemia com resultados trágicos. No entanto, as declarações do funcionário foram distorcidas nesta publicação e não condizem com as proferidas durante um discurso no dia 9 de julho, quando assegurou que a avaliação do que foi feito ajudará a compreender “o que devemos fazer para evitar outra tragédia como essa se repita no futuro ”.',\n",
              "       'De acordo com as autoridades, a vacinação contra a gripe não foi administrada em setembro na capital da Espanha.',\n",
              "       'As limitações de entrada e saída aplicam-se nos municípios indicados, independentemente do local de origem. Podem ingressar nos municípios pessoas do exterior cujo deslocamento se deva a alguma das causas de exceção.',\n",
              "       'O confinamento na Espanha não foi \"o mais severo do mundo\".',\n",
              "       'Questionável  ',\n",
              "       'A cidade de Madri tem uma taxa de contágio cinco vezes maior que a cidade e o estado de Nova York, e sua taxa de positividade é 14 vezes maior.',\n",
              "       'Não foi graças à ação judicial apresentada pelo Vox ao tribunal, mas foi a própria corte que rejeitou a ratificação do despacho solicitada pelo Conselheiro-Geral da Comunidade de Madri. ',\n",
              "       'Uma mensagem circula nas redes sobre um suposto tratamento contra a gripe que torna o paciente mais vulnerável ao coronavírus. Mas é falso. Não há evidências de que tal terapia exista.',\n",
              "       'A constatação dessas desinformações decorre da própria elaboração do projeto, das explicações de seu autor, o deputado oficial Pablo Yedlin, e de especialistas.',\n",
              "       'O secretário, a irmã e o biógrafo de Manuel Elkin Patarroyo, confirmaram que ele nunca fez essas declarações.',\n",
              "       ' com a imagem do Dr. Roberto Castellano\"',\n",
              "       'Através de uma verificação, constatou-se que a Colômbia e a Argentina possuem programas ativos de soluções habitacionais em contingência total devido à Covid-19',\n",
              "       'Desde abril, a Venezuela não experimentou um crescimento exponencial de casos em relação ao mês anterior. A opacidade das informações oficiais levanta suspeitas. Processamento limitado de testes de PCR, demora na entrega dos resultados e dúvidas sobre a capacidade hospitalar do país para o sub-notificação de casos que é estimado em 7 mil diários.',\n",
              "       ' sem especificar a data',\n",
              "       'O vídeo foi gravado na Tailândia, em 2019',\n",
              "       'Apenas funcionários do Butantan tem acesso a essa área, e a maioria deles, obviamente, é de nacionalidade brasileira',\n",
              "       'Sem contexto', ' ovos e vitamina C\"',\n",
              "       'Petição assinada por Pitanga pedia criação de auxílio emergencial para trabalhadores informais da cultura; petição virou lei e valor é de 600 reais',\n",
              "       'Dilma nunca fez essa afirmação',\n",
              "       'Não há nenhuma evidência científica que sustente essas afirmações',\n",
              "       'A frase nunca foi dita por Doria, embora não seja cientificamente incorreta',\n",
              "       'Exagerado',\n",
              "       'A foto é um meme. O produto dentro da embalagem é uma suposta vacina em formato de vaporizador',\n",
              "       'FALSO', 'falso',\n",
              "       'A fala foi retirada de contexto. O presidente se referia a uma regra aprovada na Câmara que estabelece que vacinas aprovadas em algumas agências estrangeiras devem ser aprovadas automaticamente no Brasil, e não das vacinas existentes',\n",
              "       'Não há nenhum gasto desse tipo feito pelo governo do São Paulo. O único outdoor existe com essa descrição foi colocado em Campo Grande (MS), mas não foi pago pelo governo, e sim por um morador local'],\n",
              "      dtype=object)"
            ]
          },
          "metadata": {
            "tags": []
          },
          "execution_count": 56
        }
      ]
    },
    {
      "cell_type": "code",
      "metadata": {
        "colab": {
          "base_uri": "https://localhost:8080/",
          "height": 143
        },
        "id": "kIx1v_dhQ3A2",
        "outputId": "6bdec0ff-b6a4-44d7-df40-5266ec513602"
      },
      "source": [
        "novo_dataset.loc[(novo_dataset.Classificação == 'Checagem Múltipla') | (novo_dataset.Classificação == 'Verificação múltipla')]"
      ],
      "execution_count": 78,
      "outputs": [
        {
          "output_type": "execute_result",
          "data": {
            "text/html": [
              "<div>\n",
              "<style scoped>\n",
              "    .dataframe tbody tr th:only-of-type {\n",
              "        vertical-align: middle;\n",
              "    }\n",
              "\n",
              "    .dataframe tbody tr th {\n",
              "        vertical-align: top;\n",
              "    }\n",
              "\n",
              "    .dataframe thead th {\n",
              "        text-align: right;\n",
              "    }\n",
              "</style>\n",
              "<table border=\"1\" class=\"dataframe\">\n",
              "  <thead>\n",
              "    <tr style=\"text-align: right;\">\n",
              "      <th></th>\n",
              "      <th>Afirmação checada</th>\n",
              "      <th>Classificação</th>\n",
              "      <th>Link para a checagem</th>\n",
              "    </tr>\n",
              "  </thead>\n",
              "  <tbody>\n",
              "    <tr>\n",
              "      <th>162</th>\n",
              "      <td>Diferentes alimentos, como o suco de limão que...</td>\n",
              "      <td>Checagem Múltipla</td>\n",
              "      <td>https://colombiacheck.com/chequeos/ciertos-ali...</td>\n",
              "    </tr>\n",
              "    <tr>\n",
              "      <th>223</th>\n",
              "      <td>Ex- senador colombiano afirma que Colômbia tem...</td>\n",
              "      <td>Verificação múltipla</td>\n",
              "      <td>https://colombiacheck.com/chequeos/rangel-se-e...</td>\n",
              "    </tr>\n",
              "    <tr>\n",
              "      <th>229</th>\n",
              "      <td>Verificação da corrente de mensagens sobre a \"...</td>\n",
              "      <td>Verificação múltipla</td>\n",
              "      <td>https://colombiacheck.com/chequeos/chequeo-la-...</td>\n",
              "    </tr>\n",
              "  </tbody>\n",
              "</table>\n",
              "</div>"
            ],
            "text/plain": [
              "                                     Afirmação checada  ...                               Link para a checagem\n",
              "162  Diferentes alimentos, como o suco de limão que...  ...  https://colombiacheck.com/chequeos/ciertos-ali...\n",
              "223  Ex- senador colombiano afirma que Colômbia tem...  ...  https://colombiacheck.com/chequeos/rangel-se-e...\n",
              "229  Verificação da corrente de mensagens sobre a \"...  ...  https://colombiacheck.com/chequeos/chequeo-la-...\n",
              "\n",
              "[3 rows x 3 columns]"
            ]
          },
          "metadata": {
            "tags": []
          },
          "execution_count": 78
        }
      ]
    },
    {
      "cell_type": "code",
      "metadata": {
        "id": "P87uGEONQHll"
      },
      "source": [
        "# Fazendo uma limpeza básica dos dados\n",
        "# Na coluna de classificação existem valores muito diferentes, um descuido.\n",
        "# Dando uma olhada nos valores únicos, os valores que têm notícias verdadeiras\n",
        "# são os identificados abaixo.\n",
        "\n",
        "novo_dataset = novo_dataset.loc[(novo_dataset['Classificação'] != 'Verdadeiro ') | (novo_dataset['Classificação'] != 'Verdadeiro')]"
      ],
      "execution_count": 90,
      "outputs": []
    },
    {
      "cell_type": "code",
      "metadata": {
        "colab": {
          "base_uri": "https://localhost:8080/"
        },
        "id": "2-0usVtUUFmz",
        "outputId": "4730baaf-757f-4b40-a54b-6461252f01f6"
      },
      "source": [
        "# Quantos valores nulos nós temos na tabela?\n",
        "\n",
        "novo_dataset.isnull().sum()"
      ],
      "execution_count": 80,
      "outputs": [
        {
          "output_type": "execute_result",
          "data": {
            "text/plain": [
              "Afirmação checada         0\n",
              "Classificação           660\n",
              "Link para a checagem      3\n",
              "dtype: int64"
            ]
          },
          "metadata": {
            "tags": []
          },
          "execution_count": 80
        }
      ]
    },
    {
      "cell_type": "code",
      "metadata": {
        "id": "eWT6CXsOTvXD"
      },
      "source": [
        "# Retirando valores nulos. Como a classificação não está disponível, para evitar\n",
        "# um imenso trabalho de vistoria dos dados um por um, vamos apagar.\n",
        "\n",
        "novo_dataset = novo_dataset.dropna(axis=0)"
      ],
      "execution_count": 91,
      "outputs": []
    },
    {
      "cell_type": "code",
      "metadata": {
        "id": "RB1tbNfPUbGn"
      },
      "source": [
        "# Renomeando as colunas para o dicionário do projeto\n",
        "novo_dataset = novo_dataset.rename(columns={'Afirmação checada': 'textos',\n",
        "                             'Classificação': 'verdadeira',\n",
        "                             'Link para a checagem': 'links'})"
      ],
      "execution_count": 92,
      "outputs": []
    },
    {
      "cell_type": "code",
      "metadata": {
        "colab": {
          "base_uri": "https://localhost:8080/"
        },
        "id": "mAIoZl5rVMmQ",
        "outputId": "bec07ff4-677b-42bc-b8c9-6e1dba3ea72d"
      },
      "source": [
        "# Transformação de dados\n",
        "\n",
        "novo_dataset.info()"
      ],
      "execution_count": 93,
      "outputs": [
        {
          "output_type": "stream",
          "text": [
            "<class 'pandas.core.frame.DataFrame'>\n",
            "Int64Index: 3399 entries, 0 to 4061\n",
            "Data columns (total 3 columns):\n",
            " #   Column      Non-Null Count  Dtype \n",
            "---  ------      --------------  ----- \n",
            " 0   textos      3399 non-null   object\n",
            " 1   verdadeira  3399 non-null   object\n",
            " 2   links       3399 non-null   object\n",
            "dtypes: object(3)\n",
            "memory usage: 106.2+ KB\n"
          ],
          "name": "stdout"
        }
      ]
    },
    {
      "cell_type": "markdown",
      "metadata": {
        "id": "EJhc34BbVYEE"
      },
      "source": [
        "Vou transformar os dados da coluna 'verdadeira' em variáveis qualitativas binárias."
      ]
    },
    {
      "cell_type": "code",
      "metadata": {
        "id": "4KaAbM0sXXSz"
      },
      "source": [
        "novo_dataset.verdadeira = 1"
      ],
      "execution_count": 94,
      "outputs": []
    },
    {
      "cell_type": "code",
      "metadata": {
        "colab": {
          "base_uri": "https://localhost:8080/",
          "height": 206
        },
        "id": "gYU8V0mRXc6s",
        "outputId": "9b70c389-ed89-49f7-be7d-cc1a3a6e68d4"
      },
      "source": [
        "novo_dataset.head()"
      ],
      "execution_count": 95,
      "outputs": [
        {
          "output_type": "execute_result",
          "data": {
            "text/html": [
              "<div>\n",
              "<style scoped>\n",
              "    .dataframe tbody tr th:only-of-type {\n",
              "        vertical-align: middle;\n",
              "    }\n",
              "\n",
              "    .dataframe tbody tr th {\n",
              "        vertical-align: top;\n",
              "    }\n",
              "\n",
              "    .dataframe thead th {\n",
              "        text-align: right;\n",
              "    }\n",
              "</style>\n",
              "<table border=\"1\" class=\"dataframe\">\n",
              "  <thead>\n",
              "    <tr style=\"text-align: right;\">\n",
              "      <th></th>\n",
              "      <th>textos</th>\n",
              "      <th>verdadeira</th>\n",
              "      <th>links</th>\n",
              "    </tr>\n",
              "  </thead>\n",
              "  <tbody>\n",
              "    <tr>\n",
              "      <th>0</th>\n",
              "      <td>Confirmado um caso de Coronavírus em Santiago ...</td>\n",
              "      <td>1</td>\n",
              "      <td>https://chequeado.com/verificacionfb/no-no-se-...</td>\n",
              "    </tr>\n",
              "    <tr>\n",
              "      <th>1</th>\n",
              "      <td>Confirmado um caso de Coronavírus em Chaco.</td>\n",
              "      <td>1</td>\n",
              "      <td>https://chequeado.com/verificacionfb/es-falso-...</td>\n",
              "    </tr>\n",
              "    <tr>\n",
              "      <th>2</th>\n",
              "      <td>Um médico argentino descobriu e está aplicando...</td>\n",
              "      <td>1</td>\n",
              "      <td>https://chequeado.com/verificacionfb/es-falso-...</td>\n",
              "    </tr>\n",
              "    <tr>\n",
              "      <th>3</th>\n",
              "      <td>Presidente da Argentina, Alberto Fernández: “A...</td>\n",
              "      <td>1</td>\n",
              "      <td>https://chequeado.com/ultimas-noticias/alberto...</td>\n",
              "    </tr>\n",
              "    <tr>\n",
              "      <th>4</th>\n",
              "      <td>O presidente de Argentina, Alberto Fernández, ...</td>\n",
              "      <td>1</td>\n",
              "      <td>https://chequeado.com/ultimas-noticias/alberto...</td>\n",
              "    </tr>\n",
              "  </tbody>\n",
              "</table>\n",
              "</div>"
            ],
            "text/plain": [
              "                                              textos  ...                                              links\n",
              "0  Confirmado um caso de Coronavírus em Santiago ...  ...  https://chequeado.com/verificacionfb/no-no-se-...\n",
              "1       Confirmado um caso de Coronavírus em Chaco.   ...  https://chequeado.com/verificacionfb/es-falso-...\n",
              "2  Um médico argentino descobriu e está aplicando...  ...  https://chequeado.com/verificacionfb/es-falso-...\n",
              "3  Presidente da Argentina, Alberto Fernández: “A...  ...  https://chequeado.com/ultimas-noticias/alberto...\n",
              "4  O presidente de Argentina, Alberto Fernández, ...  ...  https://chequeado.com/ultimas-noticias/alberto...\n",
              "\n",
              "[5 rows x 3 columns]"
            ]
          },
          "metadata": {
            "tags": []
          },
          "execution_count": 95
        }
      ]
    },
    {
      "cell_type": "code",
      "metadata": {
        "id": "FjitjHcjXmim"
      },
      "source": [
        "novo_datasets = novo_dataset.to_csv('/content/dataset_projeto.csv')"
      ],
      "execution_count": 96,
      "outputs": []
    }
  ]
}