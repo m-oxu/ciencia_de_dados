{
  "nbformat": 4,
  "nbformat_minor": 0,
  "metadata": {
    "colab": {
      "name": "scrapper_2.ipynb",
      "provenance": []
    },
    "kernelspec": {
      "name": "ir",
      "display_name": "R"
    },
    "language_info": {
      "name": "R"
    }
  },
  "cells": [
    {
      "cell_type": "markdown",
      "metadata": {
        "id": "m44xy6OdHylP"
      },
      "source": [
        "#Web Scrapping with R"
      ]
    },
    {
      "cell_type": "markdown",
      "metadata": {
        "id": "JSkZkV0uHbX5"
      },
      "source": [
        "A intenção desse programa é construir um raspador web que seja mais fácil de programar quanto de utilizar, e que apresente resultados melhores que o raspador web em Python que eu também montei. "
      ]
    },
    {
      "cell_type": "markdown",
      "metadata": {
        "id": "fP4DroQoH5hH"
      },
      "source": [
        "A intenção desse raspador é retirar conteúdos textuais de sites. Não o programei, ainda, para retirar imagens, por exemplo."
      ]
    },
    {
      "cell_type": "markdown",
      "metadata": {
        "id": "F2gNySq0IuNd"
      },
      "source": [
        "Há que se justificar a falta de \"r-literacy\" que provavelmente exista dentro dos códigos, visto que meu primeiro programa em R foi esse aqui mesmo, nada mais sendo programado antes nessa linguagem. Mesmo para um total desconhecido da estrutura sintática, entre outras diferenças entre R e Python, digo tranquilamente que foi um processo extremamente fácil e simples comparado com a raspação de sites do Python."
      ]
    },
    {
      "cell_type": "code",
      "metadata": {
        "id": "13AilNMuXCYm"
      },
      "source": [
        "# Libraries necessárias para fazer a raspagem e o processamento de\n",
        "# strings.\n",
        "library(rvest)\n",
        "library(stringr)\n",
        "library(tidyverse)"
      ],
      "execution_count": 261,
      "outputs": []
    },
    {
      "cell_type": "code",
      "metadata": {
        "id": "i5dm8eEHBVgm"
      },
      "source": [
        "# Função que visa raspar através de uma URL dada por mim o conteúdo\n",
        "# da class especificada.\n",
        "\n",
        "raspa_e_salva <- function(url, class){\n",
        "    #Pega o título da matéria\n",
        "    html <- read_html(url)\n",
        "\n",
        "    processa_titulo <- html %>%\n",
        "        html_nodes('title')\n",
        "        titulo_limpo <- html_text(processa_titulo)\n",
        "\n",
        "    #Pega o texto\n",
        "    processa_texto <- html %>%\n",
        "        html_nodes(class)\n",
        "        texto_limpo <- html_text(processa_texto)\n",
        "\n",
        "    df <- data.frame(titulos = titulo_limpo,\n",
        "        textos = texto_limpo\n",
        "    )\n",
        "}"
      ],
      "execution_count": 270,
      "outputs": []
    },
    {
      "cell_type": "markdown",
      "metadata": {
        "id": "WG1cuhQEJu9u"
      },
      "source": [
        "##O que esse programa pode fazer?"
      ]
    },
    {
      "cell_type": "markdown",
      "metadata": {
        "id": "0eo4itLeKVaa"
      },
      "source": [
        "Basicamente, a mesma coisa que o scrapper em Python, mas várias vezes mais fácil e incomparavelmente mais limpo. A função raspa_e_salva() fará todo o trabalho para nós. \n",
        "\n",
        "1 - Crie uma variável, em nosso exemplo será 'df'. \n",
        "2 - Chame a função raspa_e_salva() onde ela recebe como parâmetro a sua URL e class que você deseja\n",
        "3 - Ela raspa o texto e já salva como um dataframe!"
      ]
    },
    {
      "cell_type": "code",
      "metadata": {
        "id": "93ft3H1ZFQo-"
      },
      "source": [
        "noticia <- raspa_e_salva('https://noticias.uol.com.br/saude/ultimas-noticias/redacao/2021/03/31/com-120-municipios-em-emergencia-sp-compra-3-mil-cilindros-de-oxigenio.htm', '.text')"
      ],
      "execution_count": 271,
      "outputs": []
    },
    {
      "cell_type": "code",
      "metadata": {
        "colab": {
          "base_uri": "https://localhost:8080/",
          "height": 286
        },
        "id": "gTw58D8cFWa4",
        "outputId": "455c9f27-ee9e-4447-8f86-e841e57095ac"
      },
      "source": [
        "noticia"
      ],
      "execution_count": 272,
      "outputs": [
        {
          "output_type": "display_data",
          "data": {
            "text/plain": [
              "  titulos                                                                                            \n",
              "1 Com 120 municípios em emergência, SP compra 3 mil cilindros de oxigênio - 31/03/2021 - UOL Notícias\n",
              "  textos                                                                                                                                                                                                                                                                                                                                                                                                                                                                                                                                                                                                                                                                                                                                                                                                                                                                                                                                                                                                                                                                                                                                                                                                                                                                                                                                                                                                                                                                                                                                                                                                                                                                                                                    \n",
              "1        O governo de São Paulo comprou 2.000 cilindros de oxigênio e 1.000 concentradores de oxigênio para abastecer 120 cidades que estão em \"situação emergencial\" no estado. Os primeiros equipamentos já serão pegos hoje para serem distribuídos.O objetivo do estado é evitar colapso do sistema de saúde em cidades menores por falta de oxigênio, como ocorreu em Manaus, em janeiro. O Cosems/SP (Conselho de Secretários Municipais de Saúde de São Paulo) já indica desde a semana passada a necessidade de ajuda com os equipamentos.\"Fizemos um mapa com o setor privado e identificamos que existem 120 municípios em situação de emergência, por isso fizemos a mobilização para disponibilizar em tempo recorde 3.000 cilindros\", informou a secretária de Desenvolvimento Econômico, Patrícia Ellen, em coletiva no Palácio dos Bandeirantes nesta quarta (31).Segundo ela, parte do estoque foi exportada dos Estados Unidos e a iniciativa privada ajudará na distribuição dos equipamentos para os municípios. \"Há uma doação de toda a cadeia de logística, que fizeram essa iniciativa possível, porque estamos recebendo cilindros, mas eles precisam chegar na ponta para quem precisa. Isso está sendo possível porque todo o sistema doou o seu serviço\", disse Ellen.A falta de oxigênio tem sido uma preocupação em todo o país por causa da crise em Manaus no início do ano. No dia 14 de abril, o sistema de saúde da capital amazonense colapsou por falta de cilindros e centenas de pessoas morreram.Na semana passada, o prefeito da capital, Bruno Covas (PSDB), anunciou a construção de 19 pequenas miniusinas de oxigênio a serem acopladas em 18 unidades de saúde da cidade.      "
            ],
            "text/latex": "A data.frame: 1 × 2\n\\begin{tabular}{ll}\n titulos & textos\\\\\n <chr> & <chr>\\\\\n\\hline\n\t Com 120 municípios em emergência, SP compra 3 mil cilindros de oxigênio - 31/03/2021 - UOL Notícias &        O governo de São Paulo comprou 2.000 cilindros de oxigênio e 1.000 concentradores de oxigênio para abastecer 120 cidades que estão em \"situação emergencial\" no estado. Os primeiros equipamentos já serão pegos hoje para serem distribuídos.O objetivo do estado é evitar colapso do sistema de saúde em cidades menores por falta de oxigênio, como ocorreu em Manaus, em janeiro. O Cosems/SP (Conselho de Secretários Municipais de Saúde de São Paulo) já indica desde a semana passada a necessidade de ajuda com os equipamentos.\"Fizemos um mapa com o setor privado e identificamos que existem 120 municípios em situação de emergência, por isso fizemos a mobilização para disponibilizar em tempo recorde 3.000 cilindros\", informou a secretária de Desenvolvimento Econômico, Patrícia Ellen, em coletiva no Palácio dos Bandeirantes nesta quarta (31).Segundo ela, parte do estoque foi exportada dos Estados Unidos e a iniciativa privada ajudará na distribuição dos equipamentos para os municípios. \"Há uma doação de toda a cadeia de logística, que fizeram essa iniciativa possível, porque estamos recebendo cilindros, mas eles precisam chegar na ponta para quem precisa. Isso está sendo possível porque todo o sistema doou o seu serviço\", disse Ellen.A falta de oxigênio tem sido uma preocupação em todo o país por causa da crise em Manaus no início do ano. No dia 14 de abril, o sistema de saúde da capital amazonense colapsou por falta de cilindros e centenas de pessoas morreram.Na semana passada, o prefeito da capital, Bruno Covas (PSDB), anunciou a construção de 19 pequenas miniusinas de oxigênio a serem acopladas em 18 unidades de saúde da cidade.      \\\\\n\\end{tabular}\n",
            "text/markdown": "\nA data.frame: 1 × 2\n\n| titulos &lt;chr&gt; | textos &lt;chr&gt; |\n|---|---|\n| Com 120 municípios em emergência, SP compra 3 mil cilindros de oxigênio - 31/03/2021 - UOL Notícias |        O governo de São Paulo comprou 2.000 cilindros de oxigênio e 1.000 concentradores de oxigênio para abastecer 120 cidades que estão em \"situação emergencial\" no estado. Os primeiros equipamentos já serão pegos hoje para serem distribuídos.O objetivo do estado é evitar colapso do sistema de saúde em cidades menores por falta de oxigênio, como ocorreu em Manaus, em janeiro. O Cosems/SP (Conselho de Secretários Municipais de Saúde de São Paulo) já indica desde a semana passada a necessidade de ajuda com os equipamentos.\"Fizemos um mapa com o setor privado e identificamos que existem 120 municípios em situação de emergência, por isso fizemos a mobilização para disponibilizar em tempo recorde 3.000 cilindros\", informou a secretária de Desenvolvimento Econômico, Patrícia Ellen, em coletiva no Palácio dos Bandeirantes nesta quarta (31).Segundo ela, parte do estoque foi exportada dos Estados Unidos e a iniciativa privada ajudará na distribuição dos equipamentos para os municípios. \"Há uma doação de toda a cadeia de logística, que fizeram essa iniciativa possível, porque estamos recebendo cilindros, mas eles precisam chegar na ponta para quem precisa. Isso está sendo possível porque todo o sistema doou o seu serviço\", disse Ellen.A falta de oxigênio tem sido uma preocupação em todo o país por causa da crise em Manaus no início do ano. No dia 14 de abril, o sistema de saúde da capital amazonense colapsou por falta de cilindros e centenas de pessoas morreram.Na semana passada, o prefeito da capital, Bruno Covas (PSDB), anunciou a construção de 19 pequenas miniusinas de oxigênio a serem acopladas em 18 unidades de saúde da cidade.       |\n\n",
            "text/html": [
              "<table class=\"dataframe\">\n",
              "<caption>A data.frame: 1 × 2</caption>\n",
              "<thead>\n",
              "\t<tr><th scope=col>titulos</th><th scope=col>textos</th></tr>\n",
              "\t<tr><th scope=col>&lt;chr&gt;</th><th scope=col>&lt;chr&gt;</th></tr>\n",
              "</thead>\n",
              "<tbody>\n",
              "\t<tr><td>Com 120 municípios em emergência, SP compra 3 mil cilindros de oxigênio - 31/03/2021 - UOL Notícias</td><td>       O governo de São Paulo comprou 2.000 cilindros de oxigênio e 1.000 concentradores de oxigênio para abastecer 120 cidades que estão em \"situação emergencial\" no estado. Os primeiros equipamentos já serão pegos hoje para serem distribuídos.O objetivo do estado é evitar colapso do sistema de saúde em cidades menores por falta de oxigênio, como ocorreu em Manaus, em janeiro. O Cosems/SP (Conselho de Secretários Municipais de Saúde de São Paulo) já indica desde a semana passada a necessidade de ajuda com os equipamentos.\"Fizemos um mapa com o setor privado e identificamos que existem 120 municípios em situação de emergência, por isso fizemos a mobilização para disponibilizar em tempo recorde 3.000 cilindros\", informou a secretária de Desenvolvimento Econômico, Patrícia Ellen, em coletiva no Palácio dos Bandeirantes nesta quarta (31).Segundo ela, parte do estoque foi exportada dos Estados Unidos e a iniciativa privada ajudará na distribuição dos equipamentos para os municípios. \"Há uma doação de toda a cadeia de logística, que fizeram essa iniciativa possível, porque estamos recebendo cilindros, mas eles precisam chegar na ponta para quem precisa. Isso está sendo possível porque todo o sistema doou o seu serviço\", disse Ellen.A falta de oxigênio tem sido uma preocupação em todo o país por causa da crise em Manaus no início do ano. No dia 14 de abril, o sistema de saúde da capital amazonense colapsou por falta de cilindros e centenas de pessoas morreram.Na semana passada, o prefeito da capital, Bruno Covas (PSDB), anunciou a construção de 19 pequenas miniusinas de oxigênio a serem acopladas em 18 unidades de saúde da cidade.      </td></tr>\n",
              "</tbody>\n",
              "</table>\n"
            ]
          },
          "metadata": {
            "tags": []
          }
        }
      ]
    },
    {
      "cell_type": "code",
      "metadata": {
        "id": "d_Y-bGDDFnUn"
      },
      "source": [
        "noticia2 <- raspa_e_salva('https://www.boatos.org/mundo/franca-nao-tem-vacinacao-so-usa-ivermectina-hidroxicloroquina.html', '.red')"
      ],
      "execution_count": 273,
      "outputs": []
    },
    {
      "cell_type": "code",
      "metadata": {
        "colab": {
          "base_uri": "https://localhost:8080/",
          "height": 366
        },
        "id": "-WH8zt9iFuFX",
        "outputId": "ce507f39-745b-4068-8f1c-cf41fa977473"
      },
      "source": [
        "noticia2"
      ],
      "execution_count": 274,
      "outputs": [
        {
          "output_type": "display_data",
          "data": {
            "text/plain": [
              "  titulos                                                                 \n",
              "1 França não tem vacinação e só usa ivermectina e hidroxicloroquina #boato\n",
              "2 França não tem vacinação e só usa ivermectina e hidroxicloroquina #boato\n",
              "3 França não tem vacinação e só usa ivermectina e hidroxicloroquina #boato\n",
              "  textos                                                                                                                                                                                                                                                                                                                                                                                                                                                                                                                                                                                                                                                                                                                                                                                                                                                      \n",
              "1 Versão 1: Brasileiro que está em Paris, França, desmente os jornais e a televisão no Brasil sobre vacina. Na França não tem vacina pra ninguém. Tratam o povo com IVERMECTINA e HIDROXICLOROQUINA. Versão 2: Na França, não há confinamento e nem vacinas, há tratamento, que no Brasil foi totalmente politizado Versão 3: BRASILEIROS NA FRANÇA EM PANDEMIA DESMENTEM OS JORNAIS E AS TELEVISÕES Na França não tem vacina pra ninguém. Tratam o povo com ivermectina e hidroxicloroquina… Confira o que disse o rapaz.                                                                                                                                                                                                                                                                                                                                    \n",
              "2 Transcrição: Então mãe. Agora eu tô perto da Torre Eiffel aqui, galera na Rua transito de carro, normal, tá vendo aquela barraquinha aí? Essa barraquinha aí é de teste de Covid. É de graça você faz o teste. Na porta de quase todas as farmácias aqui de Paris tem. Nas cidades em volta não é tanto, mas aqui em toda cidade tem. Pessoal fala que francês não passa no sinal vermelho, ó aí que mentira. Você faz o teste em 15 minutos está pronto, entendeu? Aqui não se fala em vacina. Tanto que a vacina da Pfizer agora foi proibida aqui porque deu, coagulou, deu coágulos em diversas pessoas aqui também. Que era a única que tava sendo usada, vacina da China aqui que não entrou, na França, de jeito nenhum, né? Sputnik, nenhuma. Era só da Pfizer mesmo, mas agora parou também. E não tava tendo campanha de vacinação nenhuma, zero. \n",
              "3 Aqui é teste, deu positivo você já sai com os medicamentos. Aqui eles utilizam muito hidroxicloroquina, zinco, vitamina D, vitamina C, anticoagulante. São seis, se eu não me engano. É tratamento, entendeu? Aqui é tratamento. E muita gente usa ivermectina que é para não adoecer, né? Então tem o tratamento precoce e tem o tratamento inicial. Não se fala não vacina aqui na França. Mas é isso. Muita fake News aí no Brasil. Muita mentira. É o que eu falo é, o governo ele fala “vai fazer confinamento”, mas é só de boca para fora, entendeu? Nunca tem nada. Só fala só. Vou fazer outra filmagem aqui no parque na hora que eu chegar.                                                                                                                                                                                                      "
            ],
            "text/latex": "A data.frame: 3 × 2\n\\begin{tabular}{ll}\n titulos & textos\\\\\n <chr> & <chr>\\\\\n\\hline\n\t França não tem vacinação e só usa ivermectina e hidroxicloroquina \\#boato & Versão 1: Brasileiro que está em Paris, França, desmente os jornais e a televisão no Brasil sobre vacina. Na França não tem vacina pra ninguém. Tratam o povo com IVERMECTINA e HIDROXICLOROQUINA. Versão 2: Na França, não há confinamento e nem vacinas, há tratamento, que no Brasil foi totalmente politizado Versão 3: BRASILEIROS NA FRANÇA EM PANDEMIA DESMENTEM OS JORNAIS E AS TELEVISÕES Na França não tem vacina pra ninguém. Tratam o povo com ivermectina e hidroxicloroquina… Confira o que disse o rapaz.                                                                                                                                                                                                                                                                                                                                    \\\\\n\t França não tem vacinação e só usa ivermectina e hidroxicloroquina \\#boato & Transcrição: Então mãe. Agora eu tô perto da Torre Eiffel aqui, galera na Rua transito de carro, normal, tá vendo aquela barraquinha aí? Essa barraquinha aí é de teste de Covid. É de graça você faz o teste. Na porta de quase todas as farmácias aqui de Paris tem. Nas cidades em volta não é tanto, mas aqui em toda cidade tem. Pessoal fala que francês não passa no sinal vermelho, ó aí que mentira. Você faz o teste em 15 minutos está pronto, entendeu? Aqui não se fala em vacina. Tanto que a vacina da Pfizer agora foi proibida aqui porque deu, coagulou, deu coágulos em diversas pessoas aqui também. Que era a única que tava sendo usada, vacina da China aqui que não entrou, na França, de jeito nenhum, né? Sputnik, nenhuma. Era só da Pfizer mesmo, mas agora parou também. E não tava tendo campanha de vacinação nenhuma, zero. \\\\\n\t França não tem vacinação e só usa ivermectina e hidroxicloroquina \\#boato & Aqui é teste, deu positivo você já sai com os medicamentos. Aqui eles utilizam muito hidroxicloroquina, zinco, vitamina D, vitamina C, anticoagulante. São seis, se eu não me engano. É tratamento, entendeu? Aqui é tratamento. E muita gente usa ivermectina que é para não adoecer, né? Então tem o tratamento precoce e tem o tratamento inicial. Não se fala não vacina aqui na França. Mas é isso. Muita fake News aí no Brasil. Muita mentira. É o que eu falo é, o governo ele fala “vai fazer confinamento”, mas é só de boca para fora, entendeu? Nunca tem nada. Só fala só. Vou fazer outra filmagem aqui no parque na hora que eu chegar.                                                                                                                                                                                                      \\\\\n\\end{tabular}\n",
            "text/markdown": "\nA data.frame: 3 × 2\n\n| titulos &lt;chr&gt; | textos &lt;chr&gt; |\n|---|---|\n| França não tem vacinação e só usa ivermectina e hidroxicloroquina #boato | Versão 1: Brasileiro que está em Paris, França, desmente os jornais e a televisão no Brasil sobre vacina. Na França não tem vacina pra ninguém. Tratam o povo com IVERMECTINA e HIDROXICLOROQUINA. Versão 2: Na França, não há confinamento e nem vacinas, há tratamento, que no Brasil foi totalmente politizado Versão 3: BRASILEIROS NA FRANÇA EM PANDEMIA DESMENTEM OS JORNAIS E AS TELEVISÕES Na França não tem vacina pra ninguém. Tratam o povo com ivermectina e hidroxicloroquina… Confira o que disse o rapaz.                                                                                                                                                                                                                                                                                                                                     |\n| França não tem vacinação e só usa ivermectina e hidroxicloroquina #boato | Transcrição: Então mãe. Agora eu tô perto da Torre Eiffel aqui, galera na Rua transito de carro, normal, tá vendo aquela barraquinha aí? Essa barraquinha aí é de teste de Covid. É de graça você faz o teste. Na porta de quase todas as farmácias aqui de Paris tem. Nas cidades em volta não é tanto, mas aqui em toda cidade tem. Pessoal fala que francês não passa no sinal vermelho, ó aí que mentira. Você faz o teste em 15 minutos está pronto, entendeu? Aqui não se fala em vacina. Tanto que a vacina da Pfizer agora foi proibida aqui porque deu, coagulou, deu coágulos em diversas pessoas aqui também. Que era a única que tava sendo usada, vacina da China aqui que não entrou, na França, de jeito nenhum, né? Sputnik, nenhuma. Era só da Pfizer mesmo, mas agora parou também. E não tava tendo campanha de vacinação nenhuma, zero.  |\n| França não tem vacinação e só usa ivermectina e hidroxicloroquina #boato | Aqui é teste, deu positivo você já sai com os medicamentos. Aqui eles utilizam muito hidroxicloroquina, zinco, vitamina D, vitamina C, anticoagulante. São seis, se eu não me engano. É tratamento, entendeu? Aqui é tratamento. E muita gente usa ivermectina que é para não adoecer, né? Então tem o tratamento precoce e tem o tratamento inicial. Não se fala não vacina aqui na França. Mas é isso. Muita fake News aí no Brasil. Muita mentira. É o que eu falo é, o governo ele fala “vai fazer confinamento”, mas é só de boca para fora, entendeu? Nunca tem nada. Só fala só. Vou fazer outra filmagem aqui no parque na hora que eu chegar.                                                                                                                                                                                                       |\n\n",
            "text/html": [
              "<table class=\"dataframe\">\n",
              "<caption>A data.frame: 3 × 2</caption>\n",
              "<thead>\n",
              "\t<tr><th scope=col>titulos</th><th scope=col>textos</th></tr>\n",
              "\t<tr><th scope=col>&lt;chr&gt;</th><th scope=col>&lt;chr&gt;</th></tr>\n",
              "</thead>\n",
              "<tbody>\n",
              "\t<tr><td>França não tem vacinação e só usa ivermectina e hidroxicloroquina #boato</td><td>Versão 1: Brasileiro que está em Paris, França, desmente os jornais e a televisão no Brasil sobre vacina. Na França não tem vacina pra ninguém. Tratam o povo com IVERMECTINA e HIDROXICLOROQUINA. Versão 2: Na França, não há confinamento e nem vacinas, há tratamento, que no Brasil foi totalmente politizado Versão 3: BRASILEIROS NA FRANÇA EM PANDEMIA DESMENTEM OS JORNAIS E AS TELEVISÕES Na França não tem vacina pra ninguém. Tratam o povo com ivermectina e hidroxicloroquina… Confira o que disse o rapaz.                                                                                                                                                                                                                                                                                                                                    </td></tr>\n",
              "\t<tr><td>França não tem vacinação e só usa ivermectina e hidroxicloroquina #boato</td><td>Transcrição: Então mãe. Agora eu tô perto da Torre Eiffel aqui, galera na Rua transito de carro, normal, tá vendo aquela barraquinha aí? Essa barraquinha aí é de teste de Covid. É de graça você faz o teste. Na porta de quase todas as farmácias aqui de Paris tem. Nas cidades em volta não é tanto, mas aqui em toda cidade tem. Pessoal fala que francês não passa no sinal vermelho, ó aí que mentira. Você faz o teste em 15 minutos está pronto, entendeu? Aqui não se fala em vacina. Tanto que a vacina da Pfizer agora foi proibida aqui porque deu, coagulou, deu coágulos em diversas pessoas aqui também. Que era a única que tava sendo usada, vacina da China aqui que não entrou, na França, de jeito nenhum, né? Sputnik, nenhuma. Era só da Pfizer mesmo, mas agora parou também. E não tava tendo campanha de vacinação nenhuma, zero. </td></tr>\n",
              "\t<tr><td>França não tem vacinação e só usa ivermectina e hidroxicloroquina #boato</td><td>Aqui é teste, deu positivo você já sai com os medicamentos. Aqui eles utilizam muito hidroxicloroquina, zinco, vitamina D, vitamina C, anticoagulante. São seis, se eu não me engano. É tratamento, entendeu? Aqui é tratamento. E muita gente usa ivermectina que é para não adoecer, né? Então tem o tratamento precoce e tem o tratamento inicial. Não se fala não vacina aqui na França. Mas é isso. Muita fake News aí no Brasil. Muita mentira. É o que eu falo é, o governo ele fala “vai fazer confinamento”, mas é só de boca para fora, entendeu? Nunca tem nada. Só fala só. Vou fazer outra filmagem aqui no parque na hora que eu chegar.                                                                                                                                                                                                      </td></tr>\n",
              "</tbody>\n",
              "</table>\n"
            ]
          },
          "metadata": {
            "tags": []
          }
        }
      ]
    }
  ]
}