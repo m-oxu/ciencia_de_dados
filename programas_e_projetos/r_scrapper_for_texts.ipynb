{
  "nbformat": 4,
  "nbformat_minor": 0,
  "metadata": {
    "colab": {
      "name": "dataframe_para_boatos-org.ipynb",
      "provenance": [],
      "include_colab_link": true
    },
    "kernelspec": {
      "display_name": "R",
      "name": "ir"
    },
    "language_info": {
      "name": "R"
    }
  },
  "cells": [
    {
      "cell_type": "markdown",
      "metadata": {
        "id": "view-in-github",
        "colab_type": "text"
      },
      "source": [
        "<a href=\"https://colab.research.google.com/github/m-oxu/ciencia_de_dados/blob/main/programas_e_projetos/r_scrapper_for_texts.ipynb\" target=\"_parent\"><img src=\"https://colab.research.google.com/assets/colab-badge.svg\" alt=\"Open In Colab\"/></a>"
      ]
    },
    {
      "cell_type": "code",
      "metadata": {
        "id": "13AilNMuXCYm"
      },
      "source": [
        "library(rvest)\n",
        "library(stringr)"
      ],
      "execution_count": 1,
      "outputs": []
    },
    {
      "cell_type": "markdown",
      "metadata": {
        "id": "yPm0pkqm0Q6q"
      },
      "source": [
        "##O que esse programa pode fazer?"
      ]
    },
    {
      "cell_type": "markdown",
      "metadata": {
        "id": "heLtZ29W0WF0"
      },
      "source": [
        "Basicamente, a mesma coisa que o scrapper em Python, mas várias vezes mais fácil e incomparavelmente mais limpo. A função raspa_e_salva() fará todo o trabalho para nós.\n",
        "\n",
        "Ele raspa as datas, os links, e os textos das notícias dentro do link."
      ]
    },
    {
      "cell_type": "code",
      "metadata": {
        "id": "i5dm8eEHBVgm"
      },
      "source": [
        "# Função que raspa textos, datas e links de uma página\n",
        "\n",
        "raspa_e_salva <- function(link){\n",
        "    html <- read_html(link)\n",
        "    # Pega o título da matéria\n",
        "    processa_titulo <- html %>%\n",
        "        html_nodes('title')\n",
        "        titulo_limpo <- html_text(processa_titulo)\n",
        "    \n",
        "    # Pega a data da matéria\n",
        "    processa_data <- html %>%\n",
        "        html_nodes('.coloque_a_class_aqui') #class em que está a data\n",
        "        data_limpa <- html_text(processa_data)\n",
        "\n",
        "    # Pega o texto da matéria\n",
        "    processa_texto <- html %>%\n",
        "        html_nodes('.coloque_a_class_aqui') #class em que está o texto\n",
        "        texto_limpo <- html_text(processa_texto)\n",
        "\n",
        "    # Pega os dados e salva em um dataframe\n",
        "    df <- data.frame(link = link,\n",
        "        data = data_limpa,\n",
        "        titulos = titulo_limpo,\n",
        "        textos = texto_limpo\n",
        "    )\n",
        "    return (df)\n",
        "}"
      ],
      "execution_count": 9,
      "outputs": []
    },
    {
      "cell_type": "code",
      "metadata": {
        "id": "2PBFTDFqxV2r"
      },
      "source": [
        "# Local onde o arquivo .txt se encontra\n",
        "variavel_tal <- readLines('path_do_seu_arquivo_de_links')"
      ],
      "execution_count": 4,
      "outputs": []
    },
    {
      "cell_type": "code",
      "metadata": {
        "id": "323orkTsxlXS"
      },
      "source": [
        "# Vamos chamar a função agora que criamos\n",
        "nome_do_dataframe = do.call(rbind, lapply(c, raspa_e_salva))"
      ],
      "execution_count": 7,
      "outputs": []
    }
  ]
}