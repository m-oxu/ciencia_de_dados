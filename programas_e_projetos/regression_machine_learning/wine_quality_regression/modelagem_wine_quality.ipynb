{
  "nbformat": 4,
  "nbformat_minor": 0,
  "metadata": {
    "celltoolbar": "Slideshow",
    "kernelspec": {
      "display_name": "Python 3",
      "language": "python",
      "name": "python3"
    },
    "language_info": {
      "codemirror_mode": {
        "name": "ipython",
        "version": 3
      },
      "file_extension": ".py",
      "mimetype": "text/x-python",
      "name": "python",
      "nbconvert_exporter": "python",
      "pygments_lexer": "ipython3",
      "version": "3.8.5"
    },
    "colab": {
      "name": "modelagem_wine_quality.ipynb",
      "provenance": [],
      "include_colab_link": true
    }
  },
  "cells": [
    {
      "cell_type": "markdown",
      "metadata": {
        "id": "view-in-github",
        "colab_type": "text"
      },
      "source": [
        "<a href=\"https://colab.research.google.com/github/m-oxu/ciencia_de_dados/blob/main/programas_e_projetos/regression_machine_learning/wine_quality_regression/modelagem_wine_quality.ipynb\" target=\"_parent\"><img src=\"https://colab.research.google.com/assets/colab-badge.svg\" alt=\"Open In Colab\"/></a>"
      ]
    },
    {
      "cell_type": "code",
      "metadata": {
        "id": "zc4AZYNI_cv6"
      },
      "source": [
        "# Carregando alguns módulos essenciais para trabalharmos os dados\n",
        "\n",
        "#import modin.pandas as pd\n",
        "import pandas as pd\n",
        "import numpy as np\n",
        "import matplotlib.pyplot as plt\n",
        "import seaborn as sns\n",
        "\n",
        "import warnings\n",
        "warnings.filterwarnings('ignore')"
      ],
      "execution_count": 1,
      "outputs": []
    },
    {
      "cell_type": "markdown",
      "metadata": {
        "id": "lH1kOFAGhfe7"
      },
      "source": [
        "# Previsão da qualidade final do vinho"
      ]
    },
    {
      "cell_type": "markdown",
      "metadata": {
        "id": "gn4FTnsC_BqT"
      },
      "source": [
        "O objetivo deste problema é prever qual é a qualidade final do vinho (nota) entre 0 e 10, com base em suas propriedades químicas! <p>\n",
        "    \n",
        "As bases de dados já estão separadas em treino e teste nos arquivos `wine_treino.csv` e `wine_teste.csv`.\n",
        "\n",
        "Descrição das features na base:\n",
        "- `type`: Tipo do vinho (Branco ou Tinto)\n",
        "- `fixed acidity`: Acidez proveniente de ácidos que não evaporam rapidamente\n",
        "- `volatile acidity`: Acidez proveniente de ácidos que evaporam rapidamente\n",
        "- `citric acid`: Ácido cítrico presente no vinho, dá sensação de fescor\n",
        "- `residual_sugar`: Açúcar da uva residual após fermentação\n",
        "- `chlorides`: Quantidade de sais presentes no vinho\n",
        "- `free sulfur dioxide`: Formas livres de SO2 presentes no vinho\n",
        "- `total sulfur dioxide`: Formas livres e moleculares de SO2 presentes no vinho\n",
        "- `pH`: pH (acidez) do vinho\n",
        "- `sulphates`: Quantidade de sulfatos no vinho\n",
        "- `alcohol`: Quantidade de álcool presente no vinho\n",
        "- `quality`: Qualidade do vinho de 0 a 10. **É a nossa variável resposta!**"
      ]
    },
    {
      "cell_type": "markdown",
      "metadata": {
        "id": "lLwaoHSB_Bqm"
      },
      "source": [
        "## Entendimento da base e dos tipos de dados"
      ]
    },
    {
      "cell_type": "code",
      "metadata": {
        "id": "Wp_nMqupgsO-"
      },
      "source": [
        "df = pd.read_csv('/content/winequalityN.csv')"
      ],
      "execution_count": 5,
      "outputs": []
    },
    {
      "cell_type": "code",
      "metadata": {
        "id": "rqGiZzPxHaEK"
      },
      "source": [
        "try:\n",
        "    from janitor import clean_names\n",
        "except:\n",
        "    !pip install pyjanitor\n",
        "    from janitor import clean_names\n",
        "    \n",
        "# Tira os espaços dos nomes das colunas\n",
        "df = clean_names(df)"
      ],
      "execution_count": null,
      "outputs": []
    },
    {
      "cell_type": "code",
      "metadata": {
        "colab": {
          "base_uri": "https://localhost:8080/",
          "height": 206
        },
        "id": "ncxGGhF6PdE7",
        "outputId": "a53db6b5-5340-430e-92f0-0a684c7692b0"
      },
      "source": [
        "df.head()"
      ],
      "execution_count": null,
      "outputs": [
        {
          "output_type": "execute_result",
          "data": {
            "text/html": [
              "<div>\n",
              "<style scoped>\n",
              "    .dataframe tbody tr th:only-of-type {\n",
              "        vertical-align: middle;\n",
              "    }\n",
              "\n",
              "    .dataframe tbody tr th {\n",
              "        vertical-align: top;\n",
              "    }\n",
              "\n",
              "    .dataframe thead th {\n",
              "        text-align: right;\n",
              "    }\n",
              "</style>\n",
              "<table border=\"1\" class=\"dataframe\">\n",
              "  <thead>\n",
              "    <tr style=\"text-align: right;\">\n",
              "      <th></th>\n",
              "      <th>type</th>\n",
              "      <th>fixed_acidity</th>\n",
              "      <th>volatile_acidity</th>\n",
              "      <th>citric_acid</th>\n",
              "      <th>residual_sugar</th>\n",
              "      <th>chlorides</th>\n",
              "      <th>free_sulfur_dioxide</th>\n",
              "      <th>total_sulfur_dioxide</th>\n",
              "      <th>density</th>\n",
              "      <th>ph</th>\n",
              "      <th>sulphates</th>\n",
              "      <th>alcohol</th>\n",
              "      <th>quality</th>\n",
              "    </tr>\n",
              "  </thead>\n",
              "  <tbody>\n",
              "    <tr>\n",
              "      <th>0</th>\n",
              "      <td>0</td>\n",
              "      <td>7.0</td>\n",
              "      <td>0.27</td>\n",
              "      <td>0.36</td>\n",
              "      <td>20.7</td>\n",
              "      <td>0.045</td>\n",
              "      <td>45.0</td>\n",
              "      <td>170.0</td>\n",
              "      <td>1.0010</td>\n",
              "      <td>3.00</td>\n",
              "      <td>0.45</td>\n",
              "      <td>8.8</td>\n",
              "      <td>6</td>\n",
              "    </tr>\n",
              "    <tr>\n",
              "      <th>1</th>\n",
              "      <td>0</td>\n",
              "      <td>6.3</td>\n",
              "      <td>0.30</td>\n",
              "      <td>0.34</td>\n",
              "      <td>1.6</td>\n",
              "      <td>0.049</td>\n",
              "      <td>14.0</td>\n",
              "      <td>132.0</td>\n",
              "      <td>0.9940</td>\n",
              "      <td>3.30</td>\n",
              "      <td>0.49</td>\n",
              "      <td>9.5</td>\n",
              "      <td>6</td>\n",
              "    </tr>\n",
              "    <tr>\n",
              "      <th>2</th>\n",
              "      <td>0</td>\n",
              "      <td>8.1</td>\n",
              "      <td>0.28</td>\n",
              "      <td>0.40</td>\n",
              "      <td>6.9</td>\n",
              "      <td>0.050</td>\n",
              "      <td>30.0</td>\n",
              "      <td>97.0</td>\n",
              "      <td>0.9951</td>\n",
              "      <td>3.26</td>\n",
              "      <td>0.44</td>\n",
              "      <td>10.1</td>\n",
              "      <td>6</td>\n",
              "    </tr>\n",
              "    <tr>\n",
              "      <th>3</th>\n",
              "      <td>0</td>\n",
              "      <td>7.2</td>\n",
              "      <td>0.23</td>\n",
              "      <td>0.32</td>\n",
              "      <td>8.5</td>\n",
              "      <td>0.058</td>\n",
              "      <td>47.0</td>\n",
              "      <td>186.0</td>\n",
              "      <td>0.9956</td>\n",
              "      <td>3.19</td>\n",
              "      <td>0.40</td>\n",
              "      <td>9.9</td>\n",
              "      <td>6</td>\n",
              "    </tr>\n",
              "    <tr>\n",
              "      <th>4</th>\n",
              "      <td>0</td>\n",
              "      <td>7.2</td>\n",
              "      <td>0.23</td>\n",
              "      <td>0.32</td>\n",
              "      <td>8.5</td>\n",
              "      <td>0.058</td>\n",
              "      <td>47.0</td>\n",
              "      <td>186.0</td>\n",
              "      <td>0.9956</td>\n",
              "      <td>3.19</td>\n",
              "      <td>0.40</td>\n",
              "      <td>9.9</td>\n",
              "      <td>6</td>\n",
              "    </tr>\n",
              "  </tbody>\n",
              "</table>\n",
              "</div>"
            ],
            "text/plain": [
              "  type  fixed_acidity  volatile_acidity  ...  sulphates  alcohol  quality\n",
              "0    0            7.0              0.27  ...       0.45      8.8        6\n",
              "1    0            6.3              0.30  ...       0.49      9.5        6\n",
              "2    0            8.1              0.28  ...       0.44     10.1        6\n",
              "3    0            7.2              0.23  ...       0.40      9.9        6\n",
              "4    0            7.2              0.23  ...       0.40      9.9        6\n",
              "\n",
              "[5 rows x 13 columns]"
            ]
          },
          "metadata": {
            "tags": []
          },
          "execution_count": 24
        }
      ]
    },
    {
      "cell_type": "code",
      "metadata": {
        "colab": {
          "base_uri": "https://localhost:8080/",
          "height": 300
        },
        "id": "UC15CGsE_noN",
        "outputId": "469ddec7-f339-44bf-aa26-4579157a1fba"
      },
      "source": [
        "df.describe()"
      ],
      "execution_count": null,
      "outputs": [
        {
          "output_type": "execute_result",
          "data": {
            "text/html": [
              "<div>\n",
              "<style scoped>\n",
              "    .dataframe tbody tr th:only-of-type {\n",
              "        vertical-align: middle;\n",
              "    }\n",
              "\n",
              "    .dataframe tbody tr th {\n",
              "        vertical-align: top;\n",
              "    }\n",
              "\n",
              "    .dataframe thead th {\n",
              "        text-align: right;\n",
              "    }\n",
              "</style>\n",
              "<table border=\"1\" class=\"dataframe\">\n",
              "  <thead>\n",
              "    <tr style=\"text-align: right;\">\n",
              "      <th></th>\n",
              "      <th>fixed_acidity</th>\n",
              "      <th>volatile_acidity</th>\n",
              "      <th>citric_acid</th>\n",
              "      <th>residual_sugar</th>\n",
              "      <th>chlorides</th>\n",
              "      <th>free_sulfur_dioxide</th>\n",
              "      <th>total_sulfur_dioxide</th>\n",
              "      <th>density</th>\n",
              "      <th>ph</th>\n",
              "      <th>sulphates</th>\n",
              "      <th>alcohol</th>\n",
              "      <th>quality</th>\n",
              "    </tr>\n",
              "  </thead>\n",
              "  <tbody>\n",
              "    <tr>\n",
              "      <th>count</th>\n",
              "      <td>6487.000000</td>\n",
              "      <td>6489.000000</td>\n",
              "      <td>6494.000000</td>\n",
              "      <td>6495.000000</td>\n",
              "      <td>6495.000000</td>\n",
              "      <td>6497.000000</td>\n",
              "      <td>6497.000000</td>\n",
              "      <td>6497.000000</td>\n",
              "      <td>6488.000000</td>\n",
              "      <td>6493.000000</td>\n",
              "      <td>6497.000000</td>\n",
              "      <td>6497.000000</td>\n",
              "    </tr>\n",
              "    <tr>\n",
              "      <th>mean</th>\n",
              "      <td>7.216579</td>\n",
              "      <td>0.339691</td>\n",
              "      <td>0.318722</td>\n",
              "      <td>5.444326</td>\n",
              "      <td>0.056042</td>\n",
              "      <td>30.525319</td>\n",
              "      <td>115.744574</td>\n",
              "      <td>0.994697</td>\n",
              "      <td>3.218395</td>\n",
              "      <td>0.531215</td>\n",
              "      <td>10.491801</td>\n",
              "      <td>5.818378</td>\n",
              "    </tr>\n",
              "    <tr>\n",
              "      <th>std</th>\n",
              "      <td>1.296750</td>\n",
              "      <td>0.164649</td>\n",
              "      <td>0.145265</td>\n",
              "      <td>4.758125</td>\n",
              "      <td>0.035036</td>\n",
              "      <td>17.749400</td>\n",
              "      <td>56.521855</td>\n",
              "      <td>0.002999</td>\n",
              "      <td>0.160748</td>\n",
              "      <td>0.148814</td>\n",
              "      <td>1.192712</td>\n",
              "      <td>0.873255</td>\n",
              "    </tr>\n",
              "    <tr>\n",
              "      <th>min</th>\n",
              "      <td>3.800000</td>\n",
              "      <td>0.080000</td>\n",
              "      <td>0.000000</td>\n",
              "      <td>0.600000</td>\n",
              "      <td>0.009000</td>\n",
              "      <td>1.000000</td>\n",
              "      <td>6.000000</td>\n",
              "      <td>0.987110</td>\n",
              "      <td>2.720000</td>\n",
              "      <td>0.220000</td>\n",
              "      <td>8.000000</td>\n",
              "      <td>3.000000</td>\n",
              "    </tr>\n",
              "    <tr>\n",
              "      <th>25%</th>\n",
              "      <td>6.400000</td>\n",
              "      <td>0.230000</td>\n",
              "      <td>0.250000</td>\n",
              "      <td>1.800000</td>\n",
              "      <td>0.038000</td>\n",
              "      <td>17.000000</td>\n",
              "      <td>77.000000</td>\n",
              "      <td>0.992340</td>\n",
              "      <td>3.110000</td>\n",
              "      <td>0.430000</td>\n",
              "      <td>9.500000</td>\n",
              "      <td>5.000000</td>\n",
              "    </tr>\n",
              "    <tr>\n",
              "      <th>50%</th>\n",
              "      <td>7.000000</td>\n",
              "      <td>0.290000</td>\n",
              "      <td>0.310000</td>\n",
              "      <td>3.000000</td>\n",
              "      <td>0.047000</td>\n",
              "      <td>29.000000</td>\n",
              "      <td>118.000000</td>\n",
              "      <td>0.994890</td>\n",
              "      <td>3.210000</td>\n",
              "      <td>0.510000</td>\n",
              "      <td>10.300000</td>\n",
              "      <td>6.000000</td>\n",
              "    </tr>\n",
              "    <tr>\n",
              "      <th>75%</th>\n",
              "      <td>7.700000</td>\n",
              "      <td>0.400000</td>\n",
              "      <td>0.390000</td>\n",
              "      <td>8.100000</td>\n",
              "      <td>0.065000</td>\n",
              "      <td>41.000000</td>\n",
              "      <td>156.000000</td>\n",
              "      <td>0.996990</td>\n",
              "      <td>3.320000</td>\n",
              "      <td>0.600000</td>\n",
              "      <td>11.300000</td>\n",
              "      <td>6.000000</td>\n",
              "    </tr>\n",
              "    <tr>\n",
              "      <th>max</th>\n",
              "      <td>15.900000</td>\n",
              "      <td>1.580000</td>\n",
              "      <td>1.660000</td>\n",
              "      <td>65.800000</td>\n",
              "      <td>0.611000</td>\n",
              "      <td>289.000000</td>\n",
              "      <td>440.000000</td>\n",
              "      <td>1.038980</td>\n",
              "      <td>4.010000</td>\n",
              "      <td>2.000000</td>\n",
              "      <td>14.900000</td>\n",
              "      <td>9.000000</td>\n",
              "    </tr>\n",
              "  </tbody>\n",
              "</table>\n",
              "</div>"
            ],
            "text/plain": [
              "       fixed_acidity  volatile_acidity  ...      alcohol      quality\n",
              "count    6487.000000       6489.000000  ...  6497.000000  6497.000000\n",
              "mean        7.216579          0.339691  ...    10.491801     5.818378\n",
              "std         1.296750          0.164649  ...     1.192712     0.873255\n",
              "min         3.800000          0.080000  ...     8.000000     3.000000\n",
              "25%         6.400000          0.230000  ...     9.500000     5.000000\n",
              "50%         7.000000          0.290000  ...    10.300000     6.000000\n",
              "75%         7.700000          0.400000  ...    11.300000     6.000000\n",
              "max        15.900000          1.580000  ...    14.900000     9.000000\n",
              "\n",
              "[8 rows x 12 columns]"
            ]
          },
          "metadata": {
            "tags": []
          },
          "execution_count": 5
        }
      ]
    },
    {
      "cell_type": "code",
      "metadata": {
        "colab": {
          "base_uri": "https://localhost:8080/"
        },
        "id": "Ab-TVzv-YZ80",
        "outputId": "b3a18763-ae0b-4afe-9f55-8659a480bfe7"
      },
      "source": [
        "df.info()"
      ],
      "execution_count": null,
      "outputs": [
        {
          "output_type": "stream",
          "text": [
            "<class 'pandas.core.frame.DataFrame'>\n",
            "RangeIndex: 6497 entries, 0 to 6496\n",
            "Data columns (total 13 columns):\n",
            " #   Column                Non-Null Count  Dtype  \n",
            "---  ------                --------------  -----  \n",
            " 0   type                  6497 non-null   object \n",
            " 1   fixed_acidity         6487 non-null   float64\n",
            " 2   volatile_acidity      6489 non-null   float64\n",
            " 3   citric_acid           6494 non-null   float64\n",
            " 4   residual_sugar        6495 non-null   float64\n",
            " 5   chlorides             6495 non-null   float64\n",
            " 6   free_sulfur_dioxide   6497 non-null   float64\n",
            " 7   total_sulfur_dioxide  6497 non-null   float64\n",
            " 8   density               6497 non-null   float64\n",
            " 9   ph                    6488 non-null   float64\n",
            " 10  sulphates             6493 non-null   float64\n",
            " 11  alcohol               6497 non-null   float64\n",
            " 12  quality               6497 non-null   int64  \n",
            "dtypes: float64(11), int64(1), object(1)\n",
            "memory usage: 660.0+ KB\n"
          ],
          "name": "stdout"
        }
      ]
    },
    {
      "cell_type": "markdown",
      "metadata": {
        "id": "TWEVKr3t_Bqn"
      },
      "source": [
        "## EDA (Exploratory Data Analysis)"
      ]
    },
    {
      "cell_type": "code",
      "metadata": {
        "id": "oZa6bqjES8nf"
      },
      "source": [
        "# transformando as variáveis em categóricas\n",
        "df.type = pd.get_dummies(df.type)\n",
        "df.type = df.type.astype('category')"
      ],
      "execution_count": 7,
      "outputs": []
    },
    {
      "cell_type": "code",
      "metadata": {
        "colab": {
          "base_uri": "https://localhost:8080/",
          "height": 457
        },
        "id": "kls126n8hApF",
        "outputId": "2b68a169-480b-4cae-90e3-f81fb51e9181"
      },
      "source": [
        "missing_values = df.isnull().sum()\n",
        "percentage = round((df.isnull().sum()/len(df.values)*100), 2)\n",
        "\n",
        "percentage_of_missing_values = pd.DataFrame({'missing': missing_values,\n",
        "                                             'percentage': percentage})\n",
        "\n",
        "# Apresenta a porcentagem de valores faltantes como uma tabela\n",
        "percentage_of_missing_values"
      ],
      "execution_count": null,
      "outputs": [
        {
          "output_type": "execute_result",
          "data": {
            "text/html": [
              "<div>\n",
              "<style scoped>\n",
              "    .dataframe tbody tr th:only-of-type {\n",
              "        vertical-align: middle;\n",
              "    }\n",
              "\n",
              "    .dataframe tbody tr th {\n",
              "        vertical-align: top;\n",
              "    }\n",
              "\n",
              "    .dataframe thead th {\n",
              "        text-align: right;\n",
              "    }\n",
              "</style>\n",
              "<table border=\"1\" class=\"dataframe\">\n",
              "  <thead>\n",
              "    <tr style=\"text-align: right;\">\n",
              "      <th></th>\n",
              "      <th>missing</th>\n",
              "      <th>percentage</th>\n",
              "    </tr>\n",
              "  </thead>\n",
              "  <tbody>\n",
              "    <tr>\n",
              "      <th>type</th>\n",
              "      <td>0</td>\n",
              "      <td>0.00</td>\n",
              "    </tr>\n",
              "    <tr>\n",
              "      <th>fixed_acidity</th>\n",
              "      <td>10</td>\n",
              "      <td>0.15</td>\n",
              "    </tr>\n",
              "    <tr>\n",
              "      <th>volatile_acidity</th>\n",
              "      <td>8</td>\n",
              "      <td>0.12</td>\n",
              "    </tr>\n",
              "    <tr>\n",
              "      <th>citric_acid</th>\n",
              "      <td>3</td>\n",
              "      <td>0.05</td>\n",
              "    </tr>\n",
              "    <tr>\n",
              "      <th>residual_sugar</th>\n",
              "      <td>2</td>\n",
              "      <td>0.03</td>\n",
              "    </tr>\n",
              "    <tr>\n",
              "      <th>chlorides</th>\n",
              "      <td>2</td>\n",
              "      <td>0.03</td>\n",
              "    </tr>\n",
              "    <tr>\n",
              "      <th>free_sulfur_dioxide</th>\n",
              "      <td>0</td>\n",
              "      <td>0.00</td>\n",
              "    </tr>\n",
              "    <tr>\n",
              "      <th>total_sulfur_dioxide</th>\n",
              "      <td>0</td>\n",
              "      <td>0.00</td>\n",
              "    </tr>\n",
              "    <tr>\n",
              "      <th>density</th>\n",
              "      <td>0</td>\n",
              "      <td>0.00</td>\n",
              "    </tr>\n",
              "    <tr>\n",
              "      <th>ph</th>\n",
              "      <td>9</td>\n",
              "      <td>0.14</td>\n",
              "    </tr>\n",
              "    <tr>\n",
              "      <th>sulphates</th>\n",
              "      <td>4</td>\n",
              "      <td>0.06</td>\n",
              "    </tr>\n",
              "    <tr>\n",
              "      <th>alcohol</th>\n",
              "      <td>0</td>\n",
              "      <td>0.00</td>\n",
              "    </tr>\n",
              "    <tr>\n",
              "      <th>quality</th>\n",
              "      <td>0</td>\n",
              "      <td>0.00</td>\n",
              "    </tr>\n",
              "  </tbody>\n",
              "</table>\n",
              "</div>"
            ],
            "text/plain": [
              "                      missing  percentage\n",
              "type                        0        0.00\n",
              "fixed_acidity              10        0.15\n",
              "volatile_acidity            8        0.12\n",
              "citric_acid                 3        0.05\n",
              "residual_sugar              2        0.03\n",
              "chlorides                   2        0.03\n",
              "free_sulfur_dioxide         0        0.00\n",
              "total_sulfur_dioxide        0        0.00\n",
              "density                     0        0.00\n",
              "ph                          9        0.14\n",
              "sulphates                   4        0.06\n",
              "alcohol                     0        0.00\n",
              "quality                     0        0.00"
            ]
          },
          "metadata": {
            "tags": []
          },
          "execution_count": 9
        }
      ]
    },
    {
      "cell_type": "markdown",
      "metadata": {
        "id": "rfCqtSKQiFYm"
      },
      "source": [
        "A tabela acima demonstra que não há uma significância de valores faltantes na tabela. Em nenhuma coluna o valor de missings ultrapassa 1%. Vamos então retirar os missings."
      ]
    },
    {
      "cell_type": "code",
      "metadata": {
        "id": "pI6ZNAfWejUa"
      },
      "source": [
        "# Retira todos os valores faltantes\n",
        "df = df.dropna(axis=0)"
      ],
      "execution_count": null,
      "outputs": []
    },
    {
      "cell_type": "code",
      "metadata": {
        "colab": {
          "base_uri": "https://localhost:8080/",
          "height": 700
        },
        "id": "oSmUdgSEYbts",
        "outputId": "1e795877-0d41-4775-b259-f4803f4d5a9b"
      },
      "source": [
        "# Mapa de calor para analisar a correlação entre as variáveis\n",
        "# e a variável 'quality'\n",
        "\n",
        "plt.figure(figsize=(10, 10))\n",
        "sns.heatmap(df.corr().round(2), \n",
        "            annot=True, \n",
        "            vmin=-1, \n",
        "            vmax=1, \n",
        "            cmap='coolwarm',\n",
        "            mask=np.triu(np.ones_like(df.corr())))"
      ],
      "execution_count": null,
      "outputs": [
        {
          "output_type": "execute_result",
          "data": {
            "text/plain": [
              "<matplotlib.axes._subplots.AxesSubplot at 0x7fa3d9775690>"
            ]
          },
          "metadata": {
            "tags": []
          },
          "execution_count": 37
        },
        {
          "output_type": "display_data",
          "data": {
            "image/png": "[encoded data removed]",
            "text/plain": [
              "<Figure size 720x720 with 2 Axes>"
            ]
          },
          "metadata": {
            "tags": [],
            "needs_background": "light"
          }
        }
      ]
    },
    {
      "cell_type": "markdown",
      "metadata": {
        "id": "5GsDv02Pii-P"
      },
      "source": [
        "Pelo heatmap podemos observar que as correlaçẽs existentes não são muito altas. As que se destacam são as variáveis 'alcohol', 'volatile_acidity' e 'density'. Isto é, qualquer variável maior que 10% negativos ou positivos."
      ]
    },
    {
      "cell_type": "code",
      "metadata": {
        "id": "2G1K-vvAVSsr"
      },
      "source": [
        "# Importando algoritmo de regressão linear e de repartição do dataset\n",
        "\n",
        "from sklearn.linear_model import LinearRegression\n",
        "from sklearn.model_selection import train_test_split"
      ],
      "execution_count": null,
      "outputs": []
    },
    {
      "cell_type": "code",
      "metadata": {
        "id": "giokRAd6SC68"
      },
      "source": [
        "# Importando métrica para verificarmos o quão bem nosso modelo está indo.\n",
        "from sklearn.metrics import mean_squared_error, r2_score"
      ],
      "execution_count": null,
      "outputs": []
    },
    {
      "cell_type": "markdown",
      "metadata": {
        "id": "uRjHN6SahEsO"
      },
      "source": [
        "##Modelagem dos dados"
      ]
    },
    {
      "cell_type": "code",
      "metadata": {
        "id": "0ButNSGgVcHs"
      },
      "source": [
        "modelo_linear = LinearRegression()\n",
        "\n",
        "# Definindo as variáveis x e y\n",
        "\n",
        "y = df[['quality']]\n",
        "x = df.drop('quality', axis=1)\n",
        "\n",
        "# Dividindo o dataset em treino e teste, com o teste sendo 20% do total dos dados.\n",
        "x_train, x_test, y_train, y_test = train_test_split(x, y, \n",
        "                                                    test_size=0.2, \n",
        "                                                    random_state=1000)"
      ],
      "execution_count": null,
      "outputs": []
    },
    {
      "cell_type": "code",
      "metadata": {
        "id": "KHImPp14clAw"
      },
      "source": [
        "# Treinando o modelo\n",
        "modelo_linear.fit(x_train, y_train)\n",
        "\n",
        "# Testando o modelo\n",
        "predict = modelo_linear.predict(x_test)\n",
        "\n",
        "# Tirando a raiz quadrada do MSE para transformá-lo em RMSE\n",
        "root_mean_squared_error_all = np.sqrt(mean_squared_error(y_test, predict))"
      ],
      "execution_count": null,
      "outputs": []
    },
    {
      "cell_type": "markdown",
      "metadata": {
        "id": "AjE-GdtRhPHB"
      },
      "source": [
        "## Avaliação das métricas"
      ]
    },
    {
      "cell_type": "code",
      "metadata": {
        "colab": {
          "base_uri": "https://localhost:8080/"
        },
        "id": "ZpPW2JkDjKOx",
        "outputId": "01dc62eb-2010-479b-b0d0-d2730d7b55c1"
      },
      "source": [
        "# Métricas para avaliar performance das previsões. Quanto menor melhor!\n",
        "print(f'O Root Mean Squared Error de nosso modelo é de {round(np.sqrt(mean_squared_error(y_test, predict)), 4)}.')\n",
        "\n",
        "# Quanto mais próximo de 1, melhor!\n",
        "print(f'O R2 Score do nosso modelo é de {round(r2_score(y_test, predict), 4)}.')"
      ],
      "execution_count": null,
      "outputs": [
        {
          "output_type": "stream",
          "text": [
            "O Root Mean Squared Error de nosso modelo é de 0.7172.\n",
            "O R2 Score do nosso modelo é de 0.3187.\n"
          ],
          "name": "stdout"
        }
      ]
    },
    {
      "cell_type": "markdown",
      "metadata": {
        "id": "WmFKicBioV1S"
      },
      "source": [
        "Nós podemos melhorar essas métricas utilizando outros tipos de algoritmos? \n",
        " R: Sim! Mas, precisamos testá-los. Um R2 Score de 0.3 é muito ruim, e um RSME de 0.71 também!"
      ]
    },
    {
      "cell_type": "markdown",
      "metadata": {
        "id": "pktHOE-jfHMp"
      },
      "source": [
        "#Previsão da cor do vinho utilizando regressão logística"
      ]
    },
    {
      "cell_type": "markdown",
      "metadata": {
        "id": "6FU7pym6xizm"
      },
      "source": [
        "##Dataset divido normalmente"
      ]
    },
    {
      "cell_type": "code",
      "metadata": {
        "id": "Mpl2Qd7cokcP"
      },
      "source": [
        "# Logistic Regression algorithm\n",
        "\n",
        "from sklearn.linear_model import LogisticRegression\n",
        "from sklearn.metrics import plot_confusion_matrix, plot_roc_curve, classification_report\n",
        "from sklearn.model_selection import train_test_split\n",
        "modelo_logistic = LogisticRegression()"
      ],
      "execution_count": 3,
      "outputs": []
    },
    {
      "cell_type": "code",
      "metadata": {
        "id": "nln14YpCmd5v"
      },
      "source": [
        "# transformando as variáveis em categóricas\n",
        "df.type = pd.get_dummies(df.type)\n",
        "df.type = df.type.astype('category')"
      ],
      "execution_count": 12,
      "outputs": []
    },
    {
      "cell_type": "code",
      "metadata": {
        "id": "Nvvj4666raPD"
      },
      "source": [
        "df = df.dropna(axis=0)"
      ],
      "execution_count": 11,
      "outputs": []
    },
    {
      "cell_type": "code",
      "metadata": {
        "id": "Eav6LZV2h24b"
      },
      "source": [
        "# Redefinindo x e y\n",
        "y = df[['type']]\n",
        "x = df.drop('type', axis=1)\n",
        "\n",
        "# Dividindo o dataset em treino e teste novamente\n",
        "x_train, x_test, y_train, y_test = train_test_split(x, y, \n",
        "                                                    test_size=0.2, \n",
        "                                                    random_state=5000)"
      ],
      "execution_count": 13,
      "outputs": []
    },
    {
      "cell_type": "code",
      "metadata": {
        "id": "W5Z7OY8JpE3d"
      },
      "source": [
        "# Modelagem com algoritmo de regressão logística\n",
        "treinando_modelo_1 = modelo_logistic.fit(x_train, y_train)\n",
        "testando_modelo_1 = modelo_logistic.predict(x_test)"
      ],
      "execution_count": 14,
      "outputs": []
    },
    {
      "cell_type": "code",
      "metadata": {
        "colab": {
          "base_uri": "https://localhost:8080/"
        },
        "id": "WrKYWHicq4PV",
        "outputId": "68b1200c-af58-4923-b9c3-7e9891e19f93"
      },
      "source": [
        "# Saber como o algoritmo se saiu\n",
        "print(classification_report(y_test, testando_modelo_1))"
      ],
      "execution_count": 15,
      "outputs": [
        {
          "output_type": "stream",
          "text": [
            "              precision    recall  f1-score   support\n",
            "\n",
            "           0       0.95      0.95      0.95       310\n",
            "           1       0.98      0.98      0.98       983\n",
            "\n",
            "    accuracy                           0.98      1293\n",
            "   macro avg       0.97      0.97      0.97      1293\n",
            "weighted avg       0.98      0.98      0.98      1293\n",
            "\n"
          ],
          "name": "stdout"
        }
      ]
    },
    {
      "cell_type": "code",
      "metadata": {
        "colab": {
          "base_uri": "https://localhost:8080/",
          "height": 296
        },
        "id": "mhL6gUsTqUm_",
        "outputId": "9a15a18f-0975-4139-d935-cb107dc25d89"
      },
      "source": [
        "plot_confusion_matrix(modelo_logistic, x_test, y_test)"
      ],
      "execution_count": 16,
      "outputs": [
        {
          "output_type": "execute_result",
          "data": {
            "text/plain": [
              "<sklearn.metrics._plot.confusion_matrix.ConfusionMatrixDisplay at 0x7f9806adbfd0>"
            ]
          },
          "metadata": {
            "tags": []
          },
          "execution_count": 16
        },
        {
          "output_type": "display_data",
          "data": {
            "image/png": "[encoded data removed]",
            "text/plain": [
              "<Figure size 432x288 with 2 Axes>"
            ]
          },
          "metadata": {
            "tags": [],
            "needs_background": "light"
          }
        }
      ]
    },
    {
      "cell_type": "code",
      "metadata": {
        "colab": {
          "base_uri": "https://localhost:8080/",
          "height": 296
        },
        "id": "5HJqm3abuVcV",
        "outputId": "67b71487-b1d7-4f02-8d71-4ea94a4ab8ef"
      },
      "source": [
        "plot_roc_curve(modelo_logistic, x_test, y_test)"
      ],
      "execution_count": 17,
      "outputs": [
        {
          "output_type": "execute_result",
          "data": {
            "text/plain": [
              "<sklearn.metrics._plot.roc_curve.RocCurveDisplay at 0x7f97f8d50c50>"
            ]
          },
          "metadata": {
            "tags": []
          },
          "execution_count": 17
        },
        {
          "output_type": "display_data",
          "data": {
            "image/png": "[encoded data removed]",
            "text/plain": [
              "<Figure size 432x288 with 1 Axes>"
            ]
          },
          "metadata": {
            "tags": [],
            "needs_background": "light"
          }
        }
      ]
    },
    {
      "cell_type": "markdown",
      "metadata": {
        "id": "B5Bdqwqyi9Bc"
      },
      "source": [
        "Com esses resultados e com essas métricas podemos interpretar que o modelo soube prever muito bem a cor do vinho. Bem até demais. Vamos modificar o dataset um pouco e retreiná-lo."
      ]
    },
    {
      "cell_type": "markdown",
      "metadata": {
        "id": "kfqwlh33xnfc"
      },
      "source": [
        "##Dataset redividido"
      ]
    },
    {
      "cell_type": "code",
      "metadata": {
        "id": "0l8uke1wjbwN"
      },
      "source": [
        "# Separando o dataset original e retirando 80% dele para nosso modelo\n",
        "df_treino = pd.read_csv('/content/wine_treino.csv')\n",
        "df_teste = pd.read_csv('/content/wine_teste.csv')"
      ],
      "execution_count": null,
      "outputs": []
    },
    {
      "cell_type": "code",
      "metadata": {
        "id": "Sn5FJ-ATtZ5N"
      },
      "source": [
        "df_maior_1 = df.loc[(df.type == 1)][:3896]\n",
        "df_maior_0 = df.loc[df.type == 0][:1275]\n",
        "df_maior = pd.concat([df_maior_0, df_maior_1], ignore_index=True)\n",
        "\n",
        "df_menor_1 = df.loc[(df.type == 1)][3896:]\n",
        "df_menor_0 = df.loc[df.type == 0][1275:]\n",
        "df_menor = pd.concat([df_menor_0, df_menor_1], ignore_index=True)"
      ],
      "execution_count": 42,
      "outputs": []
    },
    {
      "cell_type": "code",
      "metadata": {
        "colab": {
          "base_uri": "https://localhost:8080/"
        },
        "id": "r6QeUrgew3vz",
        "outputId": "e5f3edc1-f514-4d5b-842a-d0d0fc0b8b71"
      },
      "source": [
        "df_maior.type.value_counts()"
      ],
      "execution_count": 41,
      "outputs": [
        {
          "output_type": "execute_result",
          "data": {
            "text/plain": [
              "1    3896\n",
              "0    1275\n",
              "Name: type, dtype: int64"
            ]
          },
          "metadata": {
            "tags": []
          },
          "execution_count": 41
        }
      ]
    },
    {
      "cell_type": "code",
      "metadata": {
        "colab": {
          "base_uri": "https://localhost:8080/"
        },
        "id": "WsUKXjVAw_G_",
        "outputId": "e55ced34-8d7b-477d-d48b-71196e124588"
      },
      "source": [
        "df_menor.type.value_counts()"
      ],
      "execution_count": 43,
      "outputs": [
        {
          "output_type": "execute_result",
          "data": {
            "text/plain": [
              "1    974\n",
              "0    318\n",
              "Name: type, dtype: int64"
            ]
          },
          "metadata": {
            "tags": []
          },
          "execution_count": 43
        }
      ]
    },
    {
      "cell_type": "markdown",
      "metadata": {
        "id": "CIXZqJpXkMKh"
      },
      "source": [
        "Agora, vamos treinar o nosso modelo com o dataset maior e testar com o dataset menor."
      ]
    },
    {
      "cell_type": "code",
      "metadata": {
        "id": "qQbBaX9BkTY1"
      },
      "source": [
        "# Dados de treino do dataset maior\n",
        "y = df_maior[['type']]\n",
        "x = df_maior.drop('type', axis=1)\n",
        "\n",
        "# Dados de teste do dataset menor\n",
        "y_teste_dataset = df_menor.type\n",
        "x_teste_dataset = df_menor.drop('type', axis=1)"
      ],
      "execution_count": 45,
      "outputs": []
    },
    {
      "cell_type": "code",
      "metadata": {
        "id": "_T975KoN22tb"
      },
      "source": [
        "x_train, x_test, y_train, y_test = train_test_split(x, y, \n",
        "                                                    test_size=0.2, \n",
        "                                                    random_state=10000)"
      ],
      "execution_count": 46,
      "outputs": []
    },
    {
      "cell_type": "code",
      "metadata": {
        "id": "FcAB5BH2lLu7"
      },
      "source": [
        "treinando_segundo_modelo = modelo_logistic.fit(x_train, y_train)\n",
        "testando_segundo_modelo = modelo_logistic.predict(x_teste_dataset)"
      ],
      "execution_count": 47,
      "outputs": []
    },
    {
      "cell_type": "code",
      "metadata": {
        "colab": {
          "base_uri": "https://localhost:8080/"
        },
        "id": "fjGHtwO2lhIr",
        "outputId": "b5efa2c5-f2c9-4026-ccfc-acf6fe546c08"
      },
      "source": [
        "print(classification_report(y_teste_dataset, testando_segundo_modelo))"
      ],
      "execution_count": 48,
      "outputs": [
        {
          "output_type": "stream",
          "text": [
            "              precision    recall  f1-score   support\n",
            "\n",
            "           0       0.97      0.94      0.96       318\n",
            "           1       0.98      0.99      0.99       974\n",
            "\n",
            "    accuracy                           0.98      1292\n",
            "   macro avg       0.98      0.97      0.97      1292\n",
            "weighted avg       0.98      0.98      0.98      1292\n",
            "\n"
          ],
          "name": "stdout"
        }
      ]
    },
    {
      "cell_type": "code",
      "metadata": {
        "colab": {
          "base_uri": "https://localhost:8080/",
          "height": 296
        },
        "id": "0O_USzm7rgwQ",
        "outputId": "36334d0c-75a5-4469-b9d2-314e3a839d90"
      },
      "source": [
        "plot_confusion_matrix(modelo_logistic, x_teste_dataset, y_teste_dataset)"
      ],
      "execution_count": 49,
      "outputs": [
        {
          "output_type": "execute_result",
          "data": {
            "text/plain": [
              "<sklearn.metrics._plot.confusion_matrix.ConfusionMatrixDisplay at 0x7f97f3831250>"
            ]
          },
          "metadata": {
            "tags": []
          },
          "execution_count": 49
        },
        {
          "output_type": "display_data",
          "data": {
            "image/png": "[encoded data removed]",
            "text/plain": [
              "<Figure size 432x288 with 2 Axes>"
            ]
          },
          "metadata": {
            "tags": [],
            "needs_background": "light"
          }
        }
      ]
    },
    {
      "cell_type": "code",
      "metadata": {
        "colab": {
          "base_uri": "https://localhost:8080/",
          "height": 296
        },
        "id": "iz4A1tHrspUj",
        "outputId": "c9989a32-c294-4413-9697-14ede8bd374a"
      },
      "source": [
        "plot_roc_curve(modelo_logistic, x_teste_dataset, y_teste_dataset)"
      ],
      "execution_count": null,
      "outputs": [
        {
          "output_type": "execute_result",
          "data": {
            "text/plain": [
              "<sklearn.metrics._plot.roc_curve.RocCurveDisplay at 0x7f6d6def9210>"
            ]
          },
          "metadata": {
            "tags": []
          },
          "execution_count": 69
        },
        {
          "output_type": "display_data",
          "data": {
            "image/png": "[encoded data removed]",
            "text/plain": [
              "<Figure size 432x288 with 1 Axes>"
            ]
          },
          "metadata": {
            "tags": [],
            "needs_background": "light"
          }
        }
      ]
    },
    {
      "cell_type": "markdown",
      "metadata": {
        "id": "W3XgMqWHo38G"
      },
      "source": [
        "#Regressão Logística na Quality"
      ]
    },
    {
      "cell_type": "code",
      "metadata": {
        "id": "p4Bj7csEo95O"
      },
      "source": [
        "# Pegando valores iguais ou acima de seis, e valores iguais e abaixo de 5.\n",
        "# A intenção é binarizar a qualidade dos vinhos e aplicar uma regressão logística.\n",
        "\n",
        "df_mod_0 = df.loc[df.quality >= 6][:3000] # balanceando um pouco o dataset\n",
        "df_mod_1 = df.loc[df.quality <= 5]"
      ],
      "execution_count": 144,
      "outputs": []
    },
    {
      "cell_type": "code",
      "metadata": {
        "id": "dlKf59eJpUa9"
      },
      "source": [
        "# Transformando em dados binários\n",
        "df_mod_1.quality = 1\n",
        "df_mod_0.quality = 0"
      ],
      "execution_count": 145,
      "outputs": []
    },
    {
      "cell_type": "code",
      "metadata": {
        "id": "2oo6mcwVppCe"
      },
      "source": [
        "#Juntando os dois datasets em um\n",
        "df_quality = pd.concat([df_mod_0, df_mod_1], ignore_index=True)"
      ],
      "execution_count": 146,
      "outputs": []
    },
    {
      "cell_type": "code",
      "metadata": {
        "colab": {
          "base_uri": "https://localhost:8080/"
        },
        "id": "3UqzVrOOqwpI",
        "outputId": "a194fc7e-5dc4-44d1-e16c-749e8106f06c"
      },
      "source": [
        "# Distribuição dos dados\n",
        "df_quality.quality.value_counts()"
      ],
      "execution_count": 147,
      "outputs": [
        {
          "output_type": "execute_result",
          "data": {
            "text/plain": [
              "0    3000\n",
              "1    2372\n",
              "Name: quality, dtype: int64"
            ]
          },
          "metadata": {
            "tags": []
          },
          "execution_count": 147
        }
      ]
    },
    {
      "cell_type": "code",
      "metadata": {
        "id": "2681jSuTp_QS"
      },
      "source": [
        "y = df_quality[['quality']]\n",
        "x = df_quality.drop('quality', axis=1)\n",
        "\n",
        "# Dividindo o dataset em treino e teste novamente\n",
        "x_train, x_test, y_train, y_test = train_test_split(x, y, \n",
        "                                                    test_size=0.2, \n",
        "                                                    random_state=5000)"
      ],
      "execution_count": 148,
      "outputs": []
    },
    {
      "cell_type": "code",
      "metadata": {
        "id": "dVVQcc_gqSp8"
      },
      "source": [
        "# Modelagem com algoritmo de regressão logística\n",
        "treinando_modelo = modelo_logistic.fit(x_train, y_train)\n",
        "testando_modelo = modelo_logistic.predict(x_test)"
      ],
      "execution_count": 149,
      "outputs": []
    },
    {
      "cell_type": "code",
      "metadata": {
        "colab": {
          "base_uri": "https://localhost:8080/"
        },
        "id": "Fn4wV7ObqehC",
        "outputId": "441b1c12-3248-4c33-a6b3-eda3e100fb92"
      },
      "source": [
        "print(classification_report(y_test, testando_modelo))"
      ],
      "execution_count": 150,
      "outputs": [
        {
          "output_type": "stream",
          "text": [
            "              precision    recall  f1-score   support\n",
            "\n",
            "           0       0.74      0.87      0.80       604\n",
            "           1       0.79      0.61      0.69       471\n",
            "\n",
            "    accuracy                           0.76      1075\n",
            "   macro avg       0.77      0.74      0.75      1075\n",
            "weighted avg       0.76      0.76      0.75      1075\n",
            "\n"
          ],
          "name": "stdout"
        }
      ]
    },
    {
      "cell_type": "markdown",
      "metadata": {
        "id": "cS8eFHw0tQf2"
      },
      "source": [
        "Basicamente, conseguimos acertar 75% do nosso dataset. 87% dos vinhos de qualidade, e 61% dos vinhos sem qualidade."
      ]
    },
    {
      "cell_type": "code",
      "metadata": {
        "colab": {
          "base_uri": "https://localhost:8080/",
          "height": 296
        },
        "id": "bk8DGV8TqoeO",
        "outputId": "b9b89159-e9af-4898-c928-86dedeb284ed"
      },
      "source": [
        "plot_roc_curve(modelo_logistic, x_test, y_test)"
      ],
      "execution_count": 151,
      "outputs": [
        {
          "output_type": "execute_result",
          "data": {
            "text/plain": [
              "<sklearn.metrics._plot.roc_curve.RocCurveDisplay at 0x7f97f32efb90>"
            ]
          },
          "metadata": {
            "tags": []
          },
          "execution_count": 151
        },
        {
          "output_type": "display_data",
          "data": {
            "image/png": "[encoded data removed]",
            "text/plain": [
              "<Figure size 432x288 with 1 Axes>"
            ]
          },
          "metadata": {
            "tags": [],
            "needs_background": "light"
          }
        }
      ]
    }
  ]
}